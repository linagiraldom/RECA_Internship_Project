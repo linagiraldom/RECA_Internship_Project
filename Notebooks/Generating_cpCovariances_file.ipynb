{
 "cells": [
  {
   "cell_type": "code",
   "execution_count": 1,
   "id": "4a5f4e84-fd8f-49c3-953f-88483acd7661",
   "metadata": {},
   "outputs": [
    {
     "name": "stderr",
     "output_type": "stream",
     "text": [
      "\n",
      "WARNING: version mismatch between CFITSIO header (v4.000999999999999) and linked library (v4.01).\n",
      "\n",
      "\n",
      "WARNING: version mismatch between CFITSIO header (v4.000999999999999) and linked library (v4.01).\n",
      "\n",
      "\n",
      "WARNING: version mismatch between CFITSIO header (v4.000999999999999) and linked library (v4.01).\n",
      "\n"
     ]
    }
   ],
   "source": [
    "import matplotlib.pyplot as plt\n",
    "import numpy as np\n",
    "import matplotlib.cm as cm\n",
    "\n",
    "import lsst.daf.butler as dB\n",
    "import lsst.cp.verify.notebooks.utils as utils\n",
    "import lsst.afw.display as afwDisplay\n",
    "from scipy import stats\n",
    "import pandas as pd\n",
    "import collections"
   ]
  },
  {
   "cell_type": "code",
   "execution_count": 2,
   "id": "38c01c51-d673-41f5-9fbd-dfd7f25729d7",
   "metadata": {},
   "outputs": [],
   "source": [
    "genCollection = \"u/lgiraldo/bps_ALLCCD_20220701\"\n",
    "butler = dB.Butler(\"/repo/main/\", collections=genCollection)"
   ]
  },
  {
   "cell_type": "code",
   "execution_count": 3,
   "id": "51d43ee1-b9c4-47fd-a2b3-cb42ca3e3778",
   "metadata": {},
   "outputs": [],
   "source": [
    "CCD = 1\n",
    "ptcDataset = butler.get(\"ptc\", instrument=\"LSSTCam\", detector=CCD)\n",
    "\n",
    "# Exposure pairs list\n",
    "exposure_pairs = np.array(sorted(ptcDataset.inputExpIdPairs['C00']))\n",
    "exposure_first55 = exposure_pairs[:,0][:,0]"
   ]
  },
  {
   "cell_type": "markdown",
   "id": "45dbc330-83c1-4184-bc56-dcc2b1ecaff1",
   "metadata": {},
   "source": [
    "# Generating files with the data for all CCDs\n",
    "\n",
    "one file for cpCovariances and another for PTC"
   ]
  },
  {
   "cell_type": "code",
   "execution_count": 4,
   "id": "f136a2fe-de61-4593-9313-ad4aa1faf099",
   "metadata": {},
   "outputs": [],
   "source": [
    "cp = collections.deque([])\n",
    "for k in range(2):\n",
    "    for i in exposure_first55:\n",
    "        cp.append(butler.get(\"cpCovariances\", instrument=\"LSSTCam\", detector=40+k, exposure= i))"
   ]
  },
  {
   "cell_type": "code",
   "execution_count": 5,
   "id": "632ec1a1-d6fc-4b22-833b-53b6b5a7be52",
   "metadata": {},
   "outputs": [
    {
     "name": "stderr",
     "output_type": "stream",
     "text": [
      "IOPub data rate exceeded.\n",
      "The Jupyter server will temporarily stop sending output\n",
      "to the client in order to avoid crashing it.\n",
      "To change this limit, set the config variable\n",
      "`--ServerApp.iopub_data_rate_limit`.\n",
      "\n",
      "Current values:\n",
      "ServerApp.iopub_data_rate_limit=1000000.0 (bytes/sec)\n",
      "ServerApp.rate_limit_window=3.0 (secs)\n",
      "\n"
     ]
    },
    {
     "ename": "KeyboardInterrupt",
     "evalue": "",
     "output_type": "error",
     "traceback": [
      "\u001b[0;31m---------------------------------------------------------------------------\u001b[0m",
      "\u001b[0;31mKeyboardInterrupt\u001b[0m                         Traceback (most recent call last)",
      "Input \u001b[0;32mIn [5]\u001b[0m, in \u001b[0;36m<cell line: 8>\u001b[0;34m()\u001b[0m\n\u001b[1;32m     12\u001b[0m gainx\u001b[38;5;241m.\u001b[39mappend(\u001b[38;5;28mlist\u001b[39m(v\u001b[38;5;241m.\u001b[39mgain\u001b[38;5;241m.\u001b[39mvalues())[j])\n\u001b[1;32m     13\u001b[0m fluxx\u001b[38;5;241m.\u001b[39mappend(\u001b[38;5;28mlist\u001b[39m(v\u001b[38;5;241m.\u001b[39mrawMeans\u001b[38;5;241m.\u001b[39mvalues())[j])\n\u001b[0;32m---> 14\u001b[0m \u001b[38;5;28;43mprint\u001b[39;49m\u001b[43m(\u001b[49m\u001b[43mfluxx\u001b[49m\u001b[43m)\u001b[49m\n\u001b[1;32m     15\u001b[0m rd_noisex\u001b[38;5;241m.\u001b[39mappend(\u001b[38;5;28mlist\u001b[39m(v\u001b[38;5;241m.\u001b[39mnoise\u001b[38;5;241m.\u001b[39mvalues())[j])\n\u001b[1;32m     16\u001b[0m detectorx\u001b[38;5;241m.\u001b[39mappend(k)\n",
      "\u001b[0;31mKeyboardInterrupt\u001b[0m: "
     ]
    }
   ],
   "source": [
    "gainx = collections.deque([])\n",
    "fluxx = collections.deque([])\n",
    "rd_noisex = collections.deque([])\n",
    "amp_namesx = collections.deque([])\n",
    "detectorx = collections.deque([])\n",
    "k=40\n",
    "\n",
    "for i,v in enumerate(cp):\n",
    "    \n",
    "    for j in range(16):\n",
    "        amp_namesx.append(list(v.gain.keys())[j])\n",
    "        gainx.append(list(v.gain.values())[j])\n",
    "        fluxx.append(list(v.rawMeans.values())[j])\n",
    "        print(fluxx)\n",
    "        rd_noisex.append(list(v.noise.values())[j])\n",
    "        detectorx.append(k)\n",
    "    if (i+1) % 338 == 0:\n",
    "        k += 1\n",
    "        \n",
    "#df1 = pd.DataFrame(list(zip(detectorx, amp_namesx, gainx, rd_noisex, np.array(fluxx).T[0])),columns = ['Detector', 'Amplifier', 'Gain', 'Read_Noise', 'Flux'])\n",
    "#df1.to_feather(\"PTC_Project/cpCovariances_data1.ft\")"
   ]
  },
  {
   "cell_type": "code",
   "execution_count": null,
   "id": "93210fcf-e699-44f8-a464-c7976185a994",
   "metadata": {},
   "outputs": [],
   "source": [
    "gainx = collections.deque([])\n",
    "fluxx = collections.deque([])\n",
    "rd_noisex = collections.deque([])\n",
    "amp_namesx = collections.deque([])\n",
    "detectorx = collections.deque([])\n",
    "k=0\n",
    "\n",
    "for i,v in enumerate(cp):\n",
    "    \n",
    "    for j in range(16):\n",
    "        amp_namesx.append(list(v.gain.keys())[j])\n",
    "        gainx.append(list(v.gain.values())[j])\n",
    "        fluxx.append(list(v.rawMeans.values())[j])\n",
    "        print(fluxx)\n",
    "        rd_noisex.append(list(v.noise.values())[j])\n",
    "        detectorx.append(k)\n",
    "    if (i+1) % 338 == 0:\n",
    "        k += 1\n",
    "        \n",
    "df1 = pd.DataFrame(list(zip(detectorx, amp_namesx, gainx, rd_noisex, np.array(fluxx).T[0])),columns = ['Detector', 'Amplifier', 'Gain', 'Read_Noise', 'Flux'])\n",
    "df1.to_feather(\"PTC_Project/cpCovariances_data2.ft\")"
   ]
  },
  {
   "cell_type": "code",
   "execution_count": null,
   "id": "e52acc44-6011-43c4-a132-41cd69abee53",
   "metadata": {},
   "outputs": [],
   "source": [
    "for k in range(10):\n",
    "    for i in exposure_first55:\n",
    "        cp.append(butler.get(\"cpCovariances\", instrument=\"LSSTCam\", detector=100+k, exposure= i))"
   ]
  },
  {
   "cell_type": "code",
   "execution_count": null,
   "id": "b06e3e8a-0476-4987-9b7e-5ef0131c32e7",
   "metadata": {},
   "outputs": [],
   "source": [
    "for k in range(10):\n",
    "    for i in exposure_first55:\n",
    "        cp.append(butler.get(\"cpCovariances\", instrument=\"LSSTCam\", detector=110+k, exposure= i))"
   ]
  },
  {
   "cell_type": "code",
   "execution_count": null,
   "id": "a4ceb3f8-0001-44df-9276-6b9bb6c71f3e",
   "metadata": {},
   "outputs": [],
   "source": [
    "for k in range(10):\n",
    "    for i in exposure_first55:\n",
    "        cp.append(butler.get(\"cpCovariances\", instrument=\"LSSTCam\", detector=120+k, exposure= i))"
   ]
  },
  {
   "cell_type": "code",
   "execution_count": null,
   "id": "673af02e-f06b-45d5-b45c-cfc6caffddf0",
   "metadata": {},
   "outputs": [],
   "source": [
    "for k in range(10):\n",
    "    for i in exposure_first55:\n",
    "        cp.append(butler.get(\"cpCovariances\", instrument=\"LSSTCam\", detector=130+k, exposure= i))"
   ]
  },
  {
   "cell_type": "code",
   "execution_count": null,
   "id": "0f339e2b-b5f7-4c7f-a506-9ddccb815c59",
   "metadata": {},
   "outputs": [],
   "source": [
    "for k in range(10):\n",
    "    for i in exposure_first55:\n",
    "        cp.append(butler.get(\"cpCovariances\", instrument=\"LSSTCam\", detector=140+k, exposure= i))"
   ]
  },
  {
   "cell_type": "code",
   "execution_count": null,
   "id": "877d29e8-6ab1-46b3-a730-f9781acefe9f",
   "metadata": {},
   "outputs": [],
   "source": [
    "with open(\"cp_obj2.txt\", \"w\") as output:\n",
    "    output.write(str(cp))\n",
    "output.close()"
   ]
  },
  {
   "cell_type": "code",
   "execution_count": null,
   "id": "ae3827ad-780d-4cc4-b0b8-a23bf735f7aa",
   "metadata": {},
   "outputs": [],
   "source": [
    "gainx = collections.deque([])\n",
    "fluxx = collections.deque([])\n",
    "rd_noisex = collections.deque([])\n",
    "amp_namesx = collections.deque([])\n",
    "detectorx = collections.deque([])\n",
    "k=0\n",
    "\n",
    "for i,v in enumerate(cp):\n",
    "    \n",
    "    for j in range(16):\n",
    "        amp_namesx.append(list(v.gain.keys())[j])\n",
    "        gainx.append(list(v.gain.values())[j])\n",
    "        fluxx.append(list(v.rawMeans.values())[j])\n",
    "        print(fluxx)\n",
    "        rd_noisex.append(list(v.noise.values())[j])\n",
    "        detectorx.append(k)\n",
    "    if (i+1) % 338 == 0:\n",
    "        k += 1\n",
    "        \n",
    "df1 = pd.DataFrame(list(zip(detectorx, amp_namesx, gainx, rd_noisex, np.array(fluxx).T[0])),columns = ['Detector', 'Amplifier', 'Gain', 'Read_Noise', 'Flux'])\n",
    "df1.to_feather(\"PTC_Project/cpCovariances_data3.ft\")"
   ]
  },
  {
   "cell_type": "code",
   "execution_count": null,
   "id": "313b39fb-a572-47cd-adc5-ae0d6656a69d",
   "metadata": {},
   "outputs": [],
   "source": [
    "for k in range(10):\n",
    "    for i in exposure_first55:\n",
    "        cp.append(butler.get(\"cpCovariances\", instrument=\"LSSTCam\", detector=150+k, exposure= i))"
   ]
  },
  {
   "cell_type": "code",
   "execution_count": null,
   "id": "3433963b-68e8-4fe3-85a0-c4db1ebbe0c7",
   "metadata": {},
   "outputs": [],
   "source": [
    "for k in range(10):\n",
    "    for i in exposure_first55:\n",
    "        cp.append(butler.get(\"cpCovariances\", instrument=\"LSSTCam\", detector=160+k, exposure= i))"
   ]
  },
  {
   "cell_type": "code",
   "execution_count": null,
   "id": "6ce61116-8864-4603-9706-e60260337eb8",
   "metadata": {},
   "outputs": [],
   "source": [
    "for k in range(10):\n",
    "    for i in exposure_first55:\n",
    "        cp.append(butler.get(\"cpCovariances\", instrument=\"LSSTCam\", detector=170+k, exposure= i))"
   ]
  },
  {
   "cell_type": "code",
   "execution_count": null,
   "id": "cfb79811-4b7b-46e8-b8bb-56bc3c3082ce",
   "metadata": {},
   "outputs": [],
   "source": [
    "for k in range(9):\n",
    "    for i in exposure_first55:\n",
    "        cp.append(butler.get(\"cpCovariances\", instrument=\"LSSTCam\", detector=180+k, exposure= i))"
   ]
  },
  {
   "cell_type": "code",
   "execution_count": null,
   "id": "6a7bee17-bca2-4928-9298-b6541e74647b",
   "metadata": {},
   "outputs": [],
   "source": [
    "3700"
   ]
  },
  {
   "cell_type": "code",
   "execution_count": null,
   "id": "e4ff8b71-596b-440f-ab85-eabc63e9a3e4",
   "metadata": {},
   "outputs": [],
   "source": [
    "with open(\"cp_obj3.txt\", \"w\") as output:\n",
    "    output.write(str(cp))\n",
    "output.close()"
   ]
  },
  {
   "cell_type": "code",
   "execution_count": null,
   "id": "2741e84f-6dfb-4904-a835-28e5f733cebe",
   "metadata": {},
   "outputs": [],
   "source": [
    "gainx = collections.deque([])\n",
    "fluxx = collections.deque([])\n",
    "rd_noisex = collections.deque([])\n",
    "amp_namesx = collections.deque([])\n",
    "detectorx = collections.deque([])\n",
    "k=0\n",
    "\n",
    "for i,v in enumerate(cp):\n",
    "    \n",
    "    for j in range(16):\n",
    "        amp_namesx.append(list(v.gain.keys())[j])\n",
    "        gainx.append(list(v.gain.values())[j])\n",
    "        fluxx.append(list(v.rawMeans.values())[j])\n",
    "        print(fluxx)\n",
    "        rd_noisex.append(list(v.noise.values())[j])\n",
    "        detectorx.append(k)\n",
    "    if (i+1) % 338 == 0:\n",
    "        k += 1"
   ]
  },
  {
   "cell_type": "code",
   "execution_count": null,
   "id": "8606ff19-8546-49f2-9bc8-262cb98e4e1d",
   "metadata": {},
   "outputs": [],
   "source": [
    "df2 = pd.DataFrame(list(zip(detectorx, amp_namesx, gainx, rd_noisex, np.array(fluxx).T[0])),columns = ['Detector', 'Amplifier', 'Gain', 'Read_Noise', 'Flux'])\n",
    "df2.to_feather(\"PTC_Project/cpCovariances_data4.ft\")"
   ]
  },
  {
   "cell_type": "code",
   "execution_count": 131,
   "id": "6b56b212-9d98-4c1d-8190-0f34a8e4df28",
   "metadata": {},
   "outputs": [
    {
     "data": {
      "text/plain": [
       "Detector        int64\n",
       "Amplifier      object\n",
       "Gain          float64\n",
       "Read_Noise    float64\n",
       "Flux          float64\n",
       "dtype: object"
      ]
     },
     "execution_count": 131,
     "metadata": {},
     "output_type": "execute_result"
    }
   ],
   "source": [
    "df1.dtypes"
   ]
  },
  {
   "cell_type": "code",
   "execution_count": null,
   "id": "faa97b79-de96-4278-bf9a-d5266a1e2371",
   "metadata": {},
   "outputs": [],
   "source": [
    "df_PTC = pd.DataFrame(columns = ['Detector', 'Amplifier', 'Gain', 'Read_Noise', 'A00', 'TurnOff'])\n",
    "\n",
    "for i in range(189):\n",
    "    amp_names1, gain1, rd_noise1, a001, turnoff1, exposure_first1 = ptc_values(i)\n",
    "    detect = np.ones(len(amp_names1), dtype=np.int8)*i\n",
    "    df = pd.DataFrame(list(zip(detect, amp_names1, gain1, rd_noise1, a001, turnoff1)),columns = ['Detector', 'Amplifier', 'Gain', 'Read_Noise', 'A00', 'TurnOff'])\n",
    "    df_PTC = pd.concat([df_PTC, df], ignore_index=True)\n",
    "    \n",
    "df_PTC[\"Detector\"] = pd.to_numeric(df_PTC[\"Detector\"])\n",
    "df_PTC[\"Gain\"] = pd.to_numeric(df_PTC[\"Gain\"])\n",
    "df_PTC[\"Read_Noise\"] = pd.to_numeric(df_PTC[\"Read_Noise\"])\n",
    "df_PTC[\"A00\"] = pd.to_numeric(df_PTC[\"A00\"])\n",
    "df_PTC[\"TurnOff\"] = pd.to_numeric(df_PTC[\"TurnOff\"])\n",
    "\n",
    "df_PTC.to_csv(\"PTC_Project/PTC_data.txt\", index = False, sep=',')"
   ]
  },
  {
   "cell_type": "code",
   "execution_count": null,
   "id": "488f2711-9950-4c46-9c87-8ad9c3911569",
   "metadata": {},
   "outputs": [],
   "source": []
  }
 ],
 "metadata": {
  "kernelspec": {
   "display_name": "LSST",
   "language": "python",
   "name": "lsst"
  },
  "language_info": {
   "codemirror_mode": {
    "name": "ipython",
    "version": 3
   },
   "file_extension": ".py",
   "mimetype": "text/x-python",
   "name": "python",
   "nbconvert_exporter": "python",
   "pygments_lexer": "ipython3",
   "version": "3.10.4"
  }
 },
 "nbformat": 4,
 "nbformat_minor": 5
}
