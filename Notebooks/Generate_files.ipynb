{
 "cells": [
  {
   "cell_type": "code",
   "execution_count": 1,
   "id": "da7f1f63-251f-4a55-a53a-bde91a2059ab",
   "metadata": {},
   "outputs": [
    {
     "name": "stderr",
     "output_type": "stream",
     "text": [
      "\n",
      "WARNING: version mismatch between CFITSIO header (v4.000999999999999) and linked library (v4.01).\n",
      "\n",
      "\n",
      "WARNING: version mismatch between CFITSIO header (v4.000999999999999) and linked library (v4.01).\n",
      "\n",
      "\n",
      "WARNING: version mismatch between CFITSIO header (v4.000999999999999) and linked library (v4.01).\n",
      "\n"
     ]
    }
   ],
   "source": [
    "import matplotlib.pyplot as plt\n",
    "import numpy as np\n",
    "import matplotlib.cm as cm\n",
    "\n",
    "import lsst.daf.butler as dB\n",
    "import lsst.cp.verify.notebooks.utils as utils\n",
    "import lsst.afw.display as afwDisplay\n",
    "from scipy import stats\n",
    "import pandas as pd\n",
    "import collections"
   ]
  },
  {
   "cell_type": "code",
   "execution_count": 2,
   "id": "b56fea9a-89b7-4c08-94a8-5074ee818d11",
   "metadata": {},
   "outputs": [],
   "source": [
    "genCollection = \"u/lgiraldo/bps_ALLCCD_20220701\"\n",
    "butler = dB.Butler(\"/repo/main/\", collections=genCollection)"
   ]
  },
  {
   "cell_type": "code",
   "execution_count": 4,
   "id": "d1b9111f-c22c-409d-a2af-1add4575c254",
   "metadata": {},
   "outputs": [],
   "source": [
    "CCD = 1\n",
    "ptcDataset = butler.get(\"ptc\", instrument=\"LSSTCam\", detector=CCD)\n",
    "\n",
    "# Exposure pairs list\n",
    "exposure_pairs = np.array(sorted(ptcDataset.inputExpIdPairs['C00']))\n",
    "exposure_first = exposure_pairs[:,0][:,0]"
   ]
  },
  {
   "cell_type": "raw",
   "id": "a2e1c425-a241-4617-ba31-d4ae6043dcad",
   "metadata": {},
   "source": [
    "%%timeit\n",
    "\n",
    "gainx = collections.deque([])\n",
    "fluxx = collections.deque([])\n",
    "rd_noisex = collections.deque([])\n",
    "amp_namesx = collections.deque([])\n",
    "detectorx = collections.deque([])\n",
    "\n",
    "k = 90\n",
    "for i in exposure_first55:\n",
    "    \n",
    "    cp = butler.get(\"cpCovariances\", instrument=\"LSSTCam\", detector=k, exposure= i)\n",
    "    amp_namesx.extend(list(cp.gain.keys()))\n",
    "    gainx.extend(list(cp.gain.values()))\n",
    "    fluxx.extend(list(cp.rawMeans.values()))\n",
    "    rd_noisex.extend(list(cp.noise.values()))\n",
    "    detectorx.extend(np.ones(len(cp.gain.values()))*k)"
   ]
  },
  {
   "cell_type": "code",
   "execution_count": 4,
   "id": "8312a94f-ac37-435e-a5e2-8f2367d30eb6",
   "metadata": {},
   "outputs": [],
   "source": [
    "gainx = collections.deque([])\n",
    "fluxx = collections.deque([])\n",
    "rd_noisex = collections.deque([])\n",
    "amp_namesx = collections.deque([])\n",
    "detectorx = collections.deque([])\n",
    "\n",
    "\n",
    "for k in range(180,189):\n",
    "    for i in exposure_first:\n",
    "\n",
    "        cp = butler.get(\"cpCovariances\", instrument=\"LSSTCam\", detector=k, exposure= i)\n",
    "        for j in range(16):\n",
    "            amp_namesx.append(list(cp.gain.keys())[j])\n",
    "            gainx.append(list(cp.gain.values())[j])\n",
    "            fluxx.append(list(cp.rawMeans.values())[j])\n",
    "            rd_noisex.append(list(cp.noise.values())[j])\n",
    "            detectorx.append(k)"
   ]
  },
  {
   "cell_type": "code",
   "execution_count": 5,
   "id": "5d95bf4d-0b19-47a5-a024-47e86b360fce",
   "metadata": {},
   "outputs": [],
   "source": [
    "df2 = pd.DataFrame(list(zip(detectorx, amp_namesx, gainx, rd_noisex, np.array(fluxx).T[0])),columns = ['Detector', 'Amplifier', 'Gain', 'Read_Noise', 'Flux'])\n",
    "df2.to_feather(\"./cpCovariances_data19.ft\")"
   ]
  },
  {
   "cell_type": "code",
   "execution_count": 7,
   "id": "ac5c6667-b09b-4512-8c0d-de45c12f9f73",
   "metadata": {},
   "outputs": [
    {
     "name": "stdout",
     "output_type": "stream",
     "text": [
      "180\n",
      "181\n",
      "182\n",
      "183\n",
      "184\n",
      "185\n",
      "186\n",
      "187\n",
      "188\n"
     ]
    }
   ],
   "source": [
    "for k in range(180,189):\n",
    "    print(k)"
   ]
  },
  {
   "cell_type": "code",
   "execution_count": 3,
   "id": "7c814c68-b3aa-4289-afbf-1e9b14714886",
   "metadata": {},
   "outputs": [],
   "source": [
    "detector1 = collections.deque([])\n",
    "amplifier1 = collections.deque([])\n",
    "gain1 = collections.deque([])\n",
    "rd_noise1 = collections.deque([])\n",
    "a001 = collections.deque([])\n",
    "turnoff1 = collections.deque([])\n",
    "k = 0\n",
    "\n",
    "for i in range(189):\n",
    "    ptcDataset = butler.get(\"ptc\", instrument=\"LSSTCam\", detector=i)\n",
    "    amp_names1 = ptcDataset.ampNames\n",
    "    for i in range(16):\n",
    "        gain1.append(list(ptcDataset.gain.values())[i])\n",
    "        rd_noise1.append(list(ptcDataset.noise.values())[i])\n",
    "        turnoff1.append(list(ptcDataset.ptcTurnoff.values())[i])\n",
    "        a001.append(np.array(list(ptcDataset.ptcFitPars.values()))[:,0][i])\n",
    "        detector1.append(k)\n",
    "    k+=1\n",
    "\n",
    "df_PTC = pd.DataFrame(list(zip(detector1, amp_names1, gain1, rd_noise1, a001, turnoff1)),columns = ['Detector', 'Amplifier', 'Gain', 'Read_Noise', 'A00', 'TurnOff'])"
   ]
  },
  {
   "cell_type": "code",
   "execution_count": 5,
   "id": "0f64fc7c-d9d4-4d1e-8ad2-4c7f16c2d5d3",
   "metadata": {},
   "outputs": [
    {
     "data": {
      "text/html": [
       "<div>\n",
       "<style scoped>\n",
       "    .dataframe tbody tr th:only-of-type {\n",
       "        vertical-align: middle;\n",
       "    }\n",
       "\n",
       "    .dataframe tbody tr th {\n",
       "        vertical-align: top;\n",
       "    }\n",
       "\n",
       "    .dataframe thead th {\n",
       "        text-align: right;\n",
       "    }\n",
       "</style>\n",
       "<table border=\"1\" class=\"dataframe\">\n",
       "  <thead>\n",
       "    <tr style=\"text-align: right;\">\n",
       "      <th></th>\n",
       "      <th>Detector</th>\n",
       "      <th>Amplifier</th>\n",
       "      <th>Gain</th>\n",
       "      <th>Read_Noise</th>\n",
       "      <th>A00</th>\n",
       "      <th>TurnOff</th>\n",
       "    </tr>\n",
       "  </thead>\n",
       "  <tbody>\n",
       "    <tr>\n",
       "      <th>0</th>\n",
       "      <td>0</td>\n",
       "      <td>C00</td>\n",
       "      <td>1.602594</td>\n",
       "      <td>6.035249</td>\n",
       "      <td>-0.000002</td>\n",
       "      <td>74918.561200</td>\n",
       "    </tr>\n",
       "    <tr>\n",
       "      <th>1</th>\n",
       "      <td>0</td>\n",
       "      <td>C01</td>\n",
       "      <td>1.593339</td>\n",
       "      <td>5.937206</td>\n",
       "      <td>-0.000002</td>\n",
       "      <td>73830.511171</td>\n",
       "    </tr>\n",
       "    <tr>\n",
       "      <th>2</th>\n",
       "      <td>0</td>\n",
       "      <td>C02</td>\n",
       "      <td>1.590703</td>\n",
       "      <td>6.018622</td>\n",
       "      <td>-0.000002</td>\n",
       "      <td>72504.390664</td>\n",
       "    </tr>\n",
       "    <tr>\n",
       "      <th>3</th>\n",
       "      <td>0</td>\n",
       "      <td>C03</td>\n",
       "      <td>1.589087</td>\n",
       "      <td>6.080679</td>\n",
       "      <td>-0.000002</td>\n",
       "      <td>72801.819624</td>\n",
       "    </tr>\n",
       "    <tr>\n",
       "      <th>4</th>\n",
       "      <td>0</td>\n",
       "      <td>C04</td>\n",
       "      <td>1.583272</td>\n",
       "      <td>6.206142</td>\n",
       "      <td>-0.000002</td>\n",
       "      <td>73461.156208</td>\n",
       "    </tr>\n",
       "    <tr>\n",
       "      <th>...</th>\n",
       "      <td>...</td>\n",
       "      <td>...</td>\n",
       "      <td>...</td>\n",
       "      <td>...</td>\n",
       "      <td>...</td>\n",
       "      <td>...</td>\n",
       "    </tr>\n",
       "    <tr>\n",
       "      <th>3019</th>\n",
       "      <td>188</td>\n",
       "      <td>C13</td>\n",
       "      <td>1.718498</td>\n",
       "      <td>5.825182</td>\n",
       "      <td>-0.000002</td>\n",
       "      <td>62274.175580</td>\n",
       "    </tr>\n",
       "    <tr>\n",
       "      <th>3020</th>\n",
       "      <td>188</td>\n",
       "      <td>C14</td>\n",
       "      <td>1.726264</td>\n",
       "      <td>5.895201</td>\n",
       "      <td>-0.000002</td>\n",
       "      <td>58818.706056</td>\n",
       "    </tr>\n",
       "    <tr>\n",
       "      <th>3021</th>\n",
       "      <td>188</td>\n",
       "      <td>C15</td>\n",
       "      <td>1.711954</td>\n",
       "      <td>5.738058</td>\n",
       "      <td>-0.000002</td>\n",
       "      <td>59050.745682</td>\n",
       "    </tr>\n",
       "    <tr>\n",
       "      <th>3022</th>\n",
       "      <td>188</td>\n",
       "      <td>C16</td>\n",
       "      <td>1.697910</td>\n",
       "      <td>5.683215</td>\n",
       "      <td>-0.000002</td>\n",
       "      <td>57872.448281</td>\n",
       "    </tr>\n",
       "    <tr>\n",
       "      <th>3023</th>\n",
       "      <td>188</td>\n",
       "      <td>C17</td>\n",
       "      <td>1.678539</td>\n",
       "      <td>5.666294</td>\n",
       "      <td>-0.000002</td>\n",
       "      <td>56794.424978</td>\n",
       "    </tr>\n",
       "  </tbody>\n",
       "</table>\n",
       "<p>3024 rows × 6 columns</p>\n",
       "</div>"
      ],
      "text/plain": [
       "      Detector Amplifier      Gain  Read_Noise       A00       TurnOff\n",
       "0            0       C00  1.602594    6.035249 -0.000002  74918.561200\n",
       "1            0       C01  1.593339    5.937206 -0.000002  73830.511171\n",
       "2            0       C02  1.590703    6.018622 -0.000002  72504.390664\n",
       "3            0       C03  1.589087    6.080679 -0.000002  72801.819624\n",
       "4            0       C04  1.583272    6.206142 -0.000002  73461.156208\n",
       "...        ...       ...       ...         ...       ...           ...\n",
       "3019       188       C13  1.718498    5.825182 -0.000002  62274.175580\n",
       "3020       188       C14  1.726264    5.895201 -0.000002  58818.706056\n",
       "3021       188       C15  1.711954    5.738058 -0.000002  59050.745682\n",
       "3022       188       C16  1.697910    5.683215 -0.000002  57872.448281\n",
       "3023       188       C17  1.678539    5.666294 -0.000002  56794.424978\n",
       "\n",
       "[3024 rows x 6 columns]"
      ]
     },
     "execution_count": 5,
     "metadata": {},
     "output_type": "execute_result"
    }
   ],
   "source": [
    "df_PTC.to_csv(\"PTC_data.txt\", index = False, sep=',')\n",
    "df_PTC"
   ]
  },
  {
   "cell_type": "code",
   "execution_count": 24,
   "id": "72a78001-fcdd-4138-961a-8064f07343e2",
   "metadata": {},
   "outputs": [],
   "source": [
    "import glob\n",
    "import os\n",
    "all_files = sorted(glob.glob(\"cpCovariances_data*.ft\"))"
   ]
  },
  {
   "cell_type": "code",
   "execution_count": 25,
   "id": "ed741337-9a7c-43ab-8871-0261b0ec4c90",
   "metadata": {},
   "outputs": [
    {
     "data": {
      "text/plain": [
       "['cpCovariances_data01.ft',\n",
       " 'cpCovariances_data02.ft',\n",
       " 'cpCovariances_data03.ft',\n",
       " 'cpCovariances_data04.ft',\n",
       " 'cpCovariances_data05.ft',\n",
       " 'cpCovariances_data06.ft',\n",
       " 'cpCovariances_data07.ft',\n",
       " 'cpCovariances_data08.ft',\n",
       " 'cpCovariances_data09.ft',\n",
       " 'cpCovariances_data10.ft',\n",
       " 'cpCovariances_data11.ft',\n",
       " 'cpCovariances_data12.ft',\n",
       " 'cpCovariances_data13.ft',\n",
       " 'cpCovariances_data14.ft',\n",
       " 'cpCovariances_data15.ft',\n",
       " 'cpCovariances_data16.ft',\n",
       " 'cpCovariances_data17.ft',\n",
       " 'cpCovariances_data18.ft',\n",
       " 'cpCovariances_data19.ft']"
      ]
     },
     "execution_count": 25,
     "metadata": {},
     "output_type": "execute_result"
    }
   ],
   "source": [
    "all_files"
   ]
  },
  {
   "cell_type": "code",
   "execution_count": 33,
   "id": "8411ad5f-c45d-4dc0-9770-00e1089ebd43",
   "metadata": {},
   "outputs": [],
   "source": [
    "df_cpCov = pd.concat((pd.read_feather(f) for f in all_files), ignore_index=True)"
   ]
  },
  {
   "cell_type": "code",
   "execution_count": 49,
   "id": "51e2c7b9-ffba-4d3f-9746-95eee24f83f6",
   "metadata": {},
   "outputs": [],
   "source": [
    "df_cpCov.to_feather(\"cpCovariances_data_ALL.ft\")"
   ]
  },
  {
   "cell_type": "code",
   "execution_count": null,
   "id": "5946d3e0-0733-408a-b90b-a8797c884265",
   "metadata": {},
   "outputs": [],
   "source": [
    "df_cpCov = pd.read_feather(\"cpCovariances_data_ALL.ft\")"
   ]
  },
  {
   "cell_type": "code",
   "execution_count": 48,
   "id": "64a9bcbe-73d4-4fb3-b6ab-a1b767806d34",
   "metadata": {},
   "outputs": [
    {
     "data": {
      "text/html": [
       "<div>\n",
       "<style scoped>\n",
       "    .dataframe tbody tr th:only-of-type {\n",
       "        vertical-align: middle;\n",
       "    }\n",
       "\n",
       "    .dataframe tbody tr th {\n",
       "        vertical-align: top;\n",
       "    }\n",
       "\n",
       "    .dataframe thead th {\n",
       "        text-align: right;\n",
       "    }\n",
       "</style>\n",
       "<table border=\"1\" class=\"dataframe\">\n",
       "  <thead>\n",
       "    <tr style=\"text-align: right;\">\n",
       "      <th></th>\n",
       "      <th>Detector</th>\n",
       "      <th>Amplifier</th>\n",
       "      <th>Gain</th>\n",
       "      <th>Read_Noise</th>\n",
       "      <th>Flux</th>\n",
       "    </tr>\n",
       "  </thead>\n",
       "  <tbody>\n",
       "    <tr>\n",
       "      <th>1016704</th>\n",
       "      <td>188</td>\n",
       "      <td>C00</td>\n",
       "      <td>1.763129</td>\n",
       "      <td>3.395242</td>\n",
       "      <td>55.713691</td>\n",
       "    </tr>\n",
       "    <tr>\n",
       "      <th>1016705</th>\n",
       "      <td>188</td>\n",
       "      <td>C01</td>\n",
       "      <td>1.709736</td>\n",
       "      <td>3.788210</td>\n",
       "      <td>54.638449</td>\n",
       "    </tr>\n",
       "    <tr>\n",
       "      <th>1016706</th>\n",
       "      <td>188</td>\n",
       "      <td>C02</td>\n",
       "      <td>1.775803</td>\n",
       "      <td>3.431862</td>\n",
       "      <td>55.480985</td>\n",
       "    </tr>\n",
       "    <tr>\n",
       "      <th>1016707</th>\n",
       "      <td>188</td>\n",
       "      <td>C03</td>\n",
       "      <td>1.775853</td>\n",
       "      <td>3.454132</td>\n",
       "      <td>55.452376</td>\n",
       "    </tr>\n",
       "    <tr>\n",
       "      <th>1016708</th>\n",
       "      <td>188</td>\n",
       "      <td>C04</td>\n",
       "      <td>1.668705</td>\n",
       "      <td>3.469973</td>\n",
       "      <td>54.752178</td>\n",
       "    </tr>\n",
       "    <tr>\n",
       "      <th>...</th>\n",
       "      <td>...</td>\n",
       "      <td>...</td>\n",
       "      <td>...</td>\n",
       "      <td>...</td>\n",
       "      <td>...</td>\n",
       "    </tr>\n",
       "    <tr>\n",
       "      <th>1022107</th>\n",
       "      <td>188</td>\n",
       "      <td>C13</td>\n",
       "      <td>2.166906</td>\n",
       "      <td>3.435512</td>\n",
       "      <td>58013.246904</td>\n",
       "    </tr>\n",
       "    <tr>\n",
       "      <th>1022108</th>\n",
       "      <td>188</td>\n",
       "      <td>C14</td>\n",
       "      <td>2.179758</td>\n",
       "      <td>3.459857</td>\n",
       "      <td>57480.759964</td>\n",
       "    </tr>\n",
       "    <tr>\n",
       "      <th>1022109</th>\n",
       "      <td>188</td>\n",
       "      <td>C15</td>\n",
       "      <td>2.161555</td>\n",
       "      <td>3.415035</td>\n",
       "      <td>57704.512458</td>\n",
       "    </tr>\n",
       "    <tr>\n",
       "      <th>1022110</th>\n",
       "      <td>188</td>\n",
       "      <td>C16</td>\n",
       "      <td>2.151485</td>\n",
       "      <td>3.490749</td>\n",
       "      <td>57872.448281</td>\n",
       "    </tr>\n",
       "    <tr>\n",
       "      <th>1022111</th>\n",
       "      <td>188</td>\n",
       "      <td>C17</td>\n",
       "      <td>2.227432</td>\n",
       "      <td>3.373641</td>\n",
       "      <td>58176.286172</td>\n",
       "    </tr>\n",
       "  </tbody>\n",
       "</table>\n",
       "<p>5408 rows × 5 columns</p>\n",
       "</div>"
      ],
      "text/plain": [
       "         Detector Amplifier      Gain  Read_Noise          Flux\n",
       "1016704       188       C00  1.763129    3.395242     55.713691\n",
       "1016705       188       C01  1.709736    3.788210     54.638449\n",
       "1016706       188       C02  1.775803    3.431862     55.480985\n",
       "1016707       188       C03  1.775853    3.454132     55.452376\n",
       "1016708       188       C04  1.668705    3.469973     54.752178\n",
       "...           ...       ...       ...         ...           ...\n",
       "1022107       188       C13  2.166906    3.435512  58013.246904\n",
       "1022108       188       C14  2.179758    3.459857  57480.759964\n",
       "1022109       188       C15  2.161555    3.415035  57704.512458\n",
       "1022110       188       C16  2.151485    3.490749  57872.448281\n",
       "1022111       188       C17  2.227432    3.373641  58176.286172\n",
       "\n",
       "[5408 rows x 5 columns]"
      ]
     },
     "execution_count": 48,
     "metadata": {},
     "output_type": "execute_result"
    }
   ],
   "source": [
    "df_cpCov[df_cpCov.Detector == 188]"
   ]
  },
  {
   "cell_type": "code",
   "execution_count": 37,
   "id": "0885a36f-de9b-47c8-9228-b1d19079566e",
   "metadata": {},
   "outputs": [],
   "source": [
    "det = [0 ,2 ,4 ,6 ,8 ,10,12,15,17,19,21,23,25,27,30,32,34,36,38,40,42,45]"
   ]
  },
  {
   "cell_type": "code",
   "execution_count": 50,
   "id": "5ca9b22f-f5b3-4b76-b3ab-b938ec63424c",
   "metadata": {},
   "outputs": [],
   "source": [
    "det0 = df_cpCov[df_cpCov.Detector == det[0]]"
   ]
  },
  {
   "cell_type": "code",
   "execution_count": 65,
   "id": "d3450363-0cd4-4158-80bf-677237645a98",
   "metadata": {},
   "outputs": [
    {
     "data": {
      "text/plain": [
       "389391     72\n",
       "634680    117\n",
       "Name: Detector, dtype: int64"
      ]
     },
     "execution_count": 65,
     "metadata": {},
     "output_type": "execute_result"
    }
   ],
   "source": [
    "nan_flux = df_cpCov.loc[df_cpCov.Flux.isnull()]\n",
    "nan_flux.Detector.drop_duplicates()"
   ]
  },
  {
   "cell_type": "code",
   "execution_count": 58,
   "id": "0f2030ab-bba4-441d-b8ac-e44a88780cdb",
   "metadata": {},
   "outputs": [
    {
     "data": {
      "text/plain": [
       "(array([0]),)"
      ]
     },
     "execution_count": 58,
     "metadata": {},
     "output_type": "execute_result"
    }
   ],
   "source": [
    "np.where(exposure_first == 3021120600576)"
   ]
  },
  {
   "cell_type": "code",
   "execution_count": 59,
   "id": "1a182547-0a20-4c57-a49b-a01b09adf974",
   "metadata": {},
   "outputs": [
    {
     "data": {
      "text/plain": [
       "3021120600576"
      ]
     },
     "execution_count": 59,
     "metadata": {},
     "output_type": "execute_result"
    }
   ],
   "source": [
    "exposure_first [0]"
   ]
  },
  {
   "cell_type": "code",
   "execution_count": 61,
   "id": "9f8eb9b4-65cc-471b-a8eb-65249e9218be",
   "metadata": {},
   "outputs": [
    {
     "data": {
      "text/plain": [
       "Detector              0\n",
       "Amplifier           C00\n",
       "Gain           1.595276\n",
       "Read_Noise     3.634567\n",
       "Flux          47.787885\n",
       "Name: 0, dtype: object"
      ]
     },
     "execution_count": 61,
     "metadata": {},
     "output_type": "execute_result"
    }
   ],
   "source": [
    "det0.loc[0]"
   ]
  },
  {
   "cell_type": "code",
   "execution_count": null,
   "id": "0751aa60-502b-47e1-b2be-91f5729c2e80",
   "metadata": {},
   "outputs": [],
   "source": []
  }
 ],
 "metadata": {
  "kernelspec": {
   "display_name": "LSST",
   "language": "python",
   "name": "lsst"
  },
  "language_info": {
   "codemirror_mode": {
    "name": "ipython",
    "version": 3
   },
   "file_extension": ".py",
   "mimetype": "text/x-python",
   "name": "python",
   "nbconvert_exporter": "python",
   "pygments_lexer": "ipython3",
   "version": "3.10.4"
  }
 },
 "nbformat": 4,
 "nbformat_minor": 5
}
