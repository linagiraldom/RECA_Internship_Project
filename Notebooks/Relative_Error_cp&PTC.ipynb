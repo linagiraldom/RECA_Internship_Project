{
 "cells": [
  {
   "cell_type": "code",
   "execution_count": 72,
   "id": "8f71829a-ba9b-4cfa-8918-062a4bd575d4",
   "metadata": {},
   "outputs": [],
   "source": [
    "import matplotlib.pyplot as plt\n",
    "import numpy as np\n",
    "import matplotlib.cm as cm\n",
    "import seaborn as sns\n",
    "\n",
    "import lsst.daf.butler as dB\n",
    "import lsst.cp.verify.notebooks.utils as utils\n",
    "import lsst.afw.display as afwDisplay\n",
    "from scipy import stats\n",
    "import pandas as pd\n",
    "import collections\n",
    "import yaml\n",
    "import copy\n",
    "from astropy.stats import sigma_clip, sigma_clipped_stats\n",
    "from matplotlib.gridspec import GridSpec\n",
    "\n",
    "from tabulate import tabulate\n",
    "import warnings\n",
    "warnings.filterwarnings('error')"
   ]
  },
  {
   "cell_type": "markdown",
   "id": "f02a17e7-a9cf-4b4c-9be0-b127b2fc6202",
   "metadata": {},
   "source": [
    "# Functions"
   ]
  },
  {
   "cell_type": "code",
   "execution_count": 50,
   "id": "6a168699-004e-4361-a9ae-ccf7a1fdd217",
   "metadata": {},
   "outputs": [],
   "source": [
    "## Create dataframe with ptc values from dict\n",
    "\n",
    "def create_df_PTC(dictname, list_detectors):\n",
    "    columns = ['Detector_ID','Detector_Num', 'Vendor', 'Amplifier','Gain', 'Read_Noise', 'A00', 'TurnOff']\n",
    "    df_new = pd.DataFrame(columns = columns)\n",
    "    #amp_names = dictname[det_id_to_name[list_detectors[0]]].keys()\n",
    "\n",
    "    for i in list_detectors:\n",
    "        k=det_id_to_name[i]\n",
    "        raft, sensor = k.split(\"_\")\n",
    "        vendor, det_num = getDetector(raft, sensor)\n",
    "        for c in ampNames:\n",
    "            df_dummy = pd.DataFrame(zip([k], [det_num], [vendor], [c], [dictname[k][c]['gain']], [dictname[k][c]['rd_noise']], [dictname[k][c]['a00']], [dictname[k][c]['turnoff']]), columns = columns)\n",
    "            df_new = pd.concat([df_new, df_dummy], ignore_index=True)\n",
    "\n",
    "    df_new[\"Gain\"] = pd.to_numeric(df_new[\"Gain\"])\n",
    "    df_new[\"Read_Noise\"] = pd.to_numeric(df_new[\"Read_Noise\"])\n",
    "    df_new[\"A00\"] = pd.to_numeric(df_new[\"A00\"])\n",
    "    df_new[\"TurnOff\"] = pd.to_numeric(df_new[\"TurnOff\"])\n",
    "\n",
    "    #df_new = df_new.dropna(subset=['Gain', 'Read_Noise', \"A00\", \"TurnOff\"])\n",
    "    return df_new\n",
    "\n",
    "## Create dataframe with cpCovariances values from dict\n",
    "\n",
    "def create_df_cpCov(dictname, list_detectors):\n",
    "    columns = ['Detector_ID','Detector_Num', 'Vendor', 'Amplifier','Flux', 'Gain', 'Read_Noise']\n",
    "    df_new = pd.DataFrame(columns = columns)\n",
    "    #amp_names = dictname[det_id_to_name[list_detectors[0]]].keys()\n",
    "\n",
    "    for i in list_detectors:\n",
    "        k=det_id_to_name[i]\n",
    "        raft, sensor = k.split(\"_\")\n",
    "        vendor, det_num = getDetector(raft, sensor)\n",
    "        for c in ampNames:\n",
    "            len_list = len(dictname[k][c]['flux'])\n",
    "            df_dummy = pd.DataFrame(zip([k]*len_list, [det_num]*len_list, [vendor]*len_list, [c]*len_list, dictname[k][c]['flux'], dictname[k][c]['gain'], dictname[k][c]['noise']), columns = columns)\n",
    "            df_new = pd.concat([df_new, df_dummy], ignore_index=True)\n",
    "\n",
    "    df_new[\"Gain\"] = pd.to_numeric(df_new[\"Gain\"])\n",
    "    df_new[\"Read_Noise\"] = pd.to_numeric(df_new[\"Read_Noise\"])\n",
    "    df_new[\"Flux\"] = pd.to_numeric(df_new[\"Flux\"])  \n",
    "\n",
    "    #df_new = df_new.dropna(subset=['Flux', 'Gain', 'Read_Noise'])\n",
    "    return df_new\n",
    "\n",
    "## Function to know the vendor of each CCD\n",
    "# Function copied from \n",
    "# https://github.com/craiglagegit/ScratchStuff/blob/master/reca/PTC_Curve_Pickle_13144M_03Jun22.ipynb \n",
    "# made by Professor Craig Lage\n",
    "\n",
    "def getDetector(raft, sensor):\n",
    "    # Subroutine to find vendor and detector number given raft and sensor                                                                                                                                                           \n",
    "    startingCol = [1,0,0,0,1] # First raft column in each row                                                                                                                                                                       \n",
    "    rows = [0,3,8,13,18] # Starting raft sequence number of each row                                                                                                                                                                \n",
    "    if raft in ['R11','R12','R13','R14','R21','R22','R23','R24','R30',\\\n",
    "                'R31','R32','R33','R34']:\n",
    "        vendor = 'E2V'\n",
    "    else:\n",
    "        vendor = 'ITL'\n",
    "    raftRow = int(list(raft)[1])\n",
    "    raftCol = int(list(raft)[2])\n",
    "    sensorRow = int(list(sensor)[1])\n",
    "    sensorCol = int(list(sensor)[2])\n",
    "    detectorNum = (rows[raftRow] + (raftCol - startingCol[raftRow])) * 9\n",
    "    detectorNum += 3 * sensorRow + sensorCol\n",
    "    return vendor, detectorNum\n",
    "\n",
    "\n",
    "## function to create dictionary with cpCovariances values\n",
    "def create_dict_cpCovariances(list_detector, dict_to_write, butler_used):    \n",
    "    for detector in list_detector:\n",
    "        for exp in exposure_first:\n",
    "            cp = butler_used.get(\"cpCovariances\", instrument=\"LSSTCam\", detector=detector, exposure= exp)\n",
    "            if cp is None:\n",
    "                print (f\"Skipping {exp} {det_id_to_name[i]} because cpCovs is None\")\n",
    "                continue\n",
    "            for ampName in ampNames:\n",
    "\n",
    "                dict_to_write[det_id_to_name[detector]][ampName]['noise'].append(cp.noise[ampName])\n",
    "                dict_to_write[det_id_to_name[detector]][ampName]['gain'].append(cp.gain[ampName])\n",
    "                dict_to_write[det_id_to_name[detector]][ampName]['flux'].append(cp.rawMeans[ampName][0])\n",
    "                \n",
    "                \n",
    "def create_dict_PTC(list_detector, dic_to_write, butler_used):\n",
    "    for detector in list_detector:\n",
    "        ptc = butler_used.get(\"ptc\", instrument=\"LSSTCam\", detector=detector)\n",
    "        for ampName in ampNames:\n",
    "\n",
    "            dic_to_write[det_id_to_name[detector]][ampName][\"rd_noise\"] = ptc.noise[ampName]\n",
    "            dic_to_write[det_id_to_name[detector]][ampName][\"gain\"] = ptc.gain[ampName]\n",
    "            dic_to_write[det_id_to_name[detector]][ampName][\"a00\"] = ptc.ptcFitPars[ampName][0]\n",
    "            dic_to_write[det_id_to_name[detector]][ampName][\"turnoff\"] = ptc.ptcTurnoff[ampName]\n",
    "            \n",
    "            \n",
    "            \n",
    "## For plots\n",
    "color_list = cm.get_cmap('plasma', 16) ##Color for amplifier\n",
    "shapes_list = [\".\", '+',\"o\", \"v\", \"x\", 's', '*', 'd', '|', '>', '1', 'p','<', '2', '^', '4']\n",
    "\n",
    "\n",
    "## Function to plot the relative percentage error between the gain and to calculate m, b and r\n",
    "## (slope, intercept and correlation coefficient)\n",
    "def plot_relative_error_gain(fig, df_PTC, df_cpCov, CCD, list_dict_mbr, where_save = ''):\n",
    "    \"\"\"\n",
    "    fig: pass the canvas\n",
    "    df_PTC: dataframe with values from PTC with columns for detector and amplifier\n",
    "    df_cpCov: dataframe with values from cpCovariances with columns for detector and amplifier\n",
    "    CCD: number of detector\n",
    "    list_dict_mbr: List with names of dictionaries for m, b and r\n",
    "    where_save: By default ''. If the place to save is '', then don't save, only show the figure. Otherwise, \n",
    "    give the folder in which you want to save figures. \n",
    "    \"\"\"\n",
    "    \n",
    "    ##Plots\n",
    "    #fig = plt.figure(figsize=(15,6))\n",
    "    axes = fig.add_axes([0.1,0.1,0.4,0.8]) # eje principal\n",
    "    axes2 = fig.add_axes([0.15,0.5,0.15,0.25]) # eje interior\n",
    "    axes3 = fig.add_axes([0.6,0.1,0.3,0.8]) # eje principal\n",
    "    fig.suptitle(f'Detector {CCD}, {det_id_to_name[CCD]}, {df_PTC[df_PTC.Detector_Num == CCD].Vendor.values[0]}: Relative percentage error in gain and Read-out noise', fontsize=18)\n",
    "        \n",
    "    amplifier = df_PTC.Amplifier[:16]\n",
    "    for i in range(16):\n",
    "\n",
    "        ptc_values = df_PTC[(df_PTC.Detector_Num == CCD) & (df_PTC.Amplifier == amplifier[i])]\n",
    "        cp_values = df_cpCov[(df_cpCov.Detector_Num == CCD) & (df_cpCov.Amplifier == amplifier[i])]\n",
    "        non_saturated = cp_values[cp_values['Flux'] < ptc_values.TurnOff.values[0]]\n",
    "        \n",
    "        if ptc_values['Gain'].values == 0:\n",
    "            print(f'\\nPTC gain is equal to zero for detector {CCD} and amplifier {amplifier[i]}')\n",
    "        else:\n",
    "            ##Calculate percentage relative error between gain from PTC and cpCovariancces\n",
    "            relative = abs(non_saturated['Gain'] - ptc_values['Gain'].values)/ptc_values['Gain'].values *100\n",
    "            \n",
    "        \n",
    "        ## Linear fit in low flux regime\n",
    "        ##Select the region of low flux regime (5000 and 10000 ADU)\n",
    "        linear_flux = non_saturated[(non_saturated.Flux > 5000) & (non_saturated.Flux < 10000)]\n",
    "        \n",
    "        ##If some amplifier doesn't have values in flux in this region, omit it \n",
    "        if linear_flux.size == 0:\n",
    "            print(f\"There's no flux between 5000 and 10000 ADU for detector {CCD} and amplifier {amplifier[i]}\")\n",
    "            #############This dictionaries already exist############\n",
    "            #all_rafts_m[det_id_to_name[CCD[0]]][amplifier[i]] = float(-1)\n",
    "            #all_rafts_r[det_id_to_name[CCD[0]]][amplifier[i]] = float(-1)\n",
    "            #######################################################\n",
    "        else:\n",
    "            ##Make linear fit in low flux regime\n",
    "            slope, intercept, r, p, se = stats.linregress(linear_flux['Flux'], relative[linear_flux.index])\n",
    "            poly1d_fn = np.poly1d([slope, intercept])\n",
    "            x = np.linspace(5000,10000, 1000)\n",
    "            \n",
    "            ############This dictionaries already exist############\n",
    "            list_dict_mbr[0][det_id_to_name[CCD]][amplifier[i]] = float(slope)\n",
    "            list_dict_mbr[1][det_id_to_name[CCD]][amplifier[i]] = float(intercept)\n",
    "            list_dict_mbr[2][det_id_to_name[CCD]][amplifier[i]] = float(r)\n",
    "            #######################################################\n",
    "            \n",
    "            ##Then plot the relative error distribution by the amplifier and the read-out noise\n",
    "            axes.scatter(non_saturated['Flux'], relative, color = color_list(i), s=10, marker = shapes_list[i])\n",
    "            axes3.scatter(non_saturated['Flux'], non_saturated['Read_Noise'], color = color_list(i),marker = shapes_list[i] , label=f'{amplifier[i]}: PTC gain = {ptc_values[\"Gain\"].values[0]:.4f}')\n",
    "                \n",
    "            ##Then plot the distribution between this range by the amplifier and its respective linear fit\n",
    "            axes2.scatter(non_saturated['Flux'], relative, color = color_list(i), s=10, marker = shapes_list[i],zorder=1)\n",
    "            axes2.plot(x, poly1d_fn(x), color = color_list(i), zorder=3)\n",
    "\n",
    "    for i in [axes,axes3]:\n",
    "        i.tick_params(labelsize=18)\n",
    "    axes2.tick_params(labelsize=14)\n",
    "    axes.set_ylim(0,100)\n",
    "    axes2.set_xlim(5000, 10000)\n",
    "    axes2.set_ylim(0,15)\n",
    "    axes.set_xlabel('Flux [ADU]', fontsize=18)\n",
    "    axes.set_ylabel('Percent [%]', fontsize=18)\n",
    "    axes3.set_xlabel('Flux [ADU]', fontsize=18)\n",
    "    axes3.set_ylabel(r'Noise [$e^-$]', fontsize=18)\n",
    "    axes3.legend(loc='upper right', bbox_to_anchor=(1.8, 1), fontsize=14)\n",
    "    if where_save == '':\n",
    "        plt.show()\n",
    "    else:\n",
    "        plt.savefig(f'{where_save}/Relative_Error_Gain_Noise_detector{det_id_to_name[CCD]}.png', bbox_inches='tight')\n",
    "        plt.close(fig)\n",
    "    \n",
    "    return\n",
    "\n",
    "\n",
    "def create_df_mbr(list_detector, list_dict_mbr):\n",
    "\n",
    "    columns = ['Detector_ID','Detector_Num', 'Vendor', 'Amplifier','Slope', 'Offset', 'Correlation_Coef']\n",
    "    df_new = pd.DataFrame(columns = columns)\n",
    "\n",
    "    for i in list_detector:\n",
    "        k=det_id_to_name[i]\n",
    "        raft, sensor = k.split(\"_\")\n",
    "        vendor, det_num = getDetector(raft, sensor)\n",
    "        for c in ampNames:\n",
    "            df_dummy = pd.DataFrame(zip([k], [det_num], [vendor], [c], [list_dict_mbr[0][k][c]], [list_dict_mbr[1][k][c]], [list_dict_mbr[2][k][c]]), columns = columns)\n",
    "            df_new = pd.concat([df_new, df_dummy], ignore_index=True)\n",
    "\n",
    "    df_new[\"Slope\"] = pd.to_numeric(df_new[\"Slope\"])\n",
    "    df_new[\"Offset\"] = pd.to_numeric(df_new[\"Offset\"])\n",
    "    df_new[\"Correlation_Coef\"] = pd.to_numeric(df_new[\"Correlation_Coef\"])  \n",
    "\n",
    "    #df_new = df_new.dropna(subset=['Slope','Correlation_Coef', \"Correlation_Coef\"])\n",
    "    return df_new\n",
    "\n",
    "\n",
    "\n",
    "def grouping_clipping_stats(df, columns, sigma, iterations):\n",
    "    \"\"\"\n",
    "    This function uses 'sigma_clip' from astropy \n",
    "    https://docs.astropy.org/en/stable/api/astropy.stats.sigma_clip.html#:~:text=Perform%20sigma-clipping%20on%20the,deviations%20from%20a%20center%20value.&text=Invalid%20data%20values%20(i.e.,%20NaN,or%20inf)%20are%20automatically%20clipped.\n",
    "    ''The data will be iterated over, each time rejecting values that are less or more than a \n",
    "    specified number of standard deviations from a center value.''\n",
    "    \n",
    "\n",
    "    df: dataframe on which you want to perform the sigma clipping and calculate the statistics (mean, std)\n",
    "    columns: list of columns names to perform sigma clipping \n",
    "    sigma: times of estandar deviation from the median (sigma clip)\n",
    "    iterations: number of iterations to perform the rejection (sigma clip)\n",
    "    \n",
    "    returns: \n",
    "        -two dictionaries:\n",
    "            1. dataframes with clipping applied, keys: E2V, ITL, All\n",
    "            2. dataframes with statistics (mean and standar deviation for clipping dataframes),\n",
    "            keys: E2V, ITL, All\n",
    "    \"\"\"\n",
    "    ## Dropping nan values\n",
    "    df_dropna = df.dropna(subset=columns)\n",
    "    \n",
    "    ## Grouping m, b and r data by vendor\n",
    "    by_vendor = df_dropna.groupby('Vendor')[columns]\n",
    "    df_E2V = by_vendor.get_group('E2V')\n",
    "    df_ITL = by_vendor.get_group('ITL')\n",
    "    \n",
    "    ## Performing sigma-clipping by the vendor\n",
    "    E2V_clip = df_E2V.agg(lambda x: sigma_clip(x, sigma=sigma, maxiters=iterations))\n",
    "    ITL_clip = df_ITL.agg(lambda x: sigma_clip(x, sigma=sigma, maxiters=iterations))\n",
    "    all_clip = df_dropna[columns].agg(lambda x: sigma_clip(x, sigma=sigma, maxiters=iterations))\n",
    "    clipping_group = {'E2V': E2V_clip, 'ITL': ITL_clip, 'All':all_clip}\n",
    "    \n",
    "    ## Stats by vendor\n",
    "    \n",
    "    E2V_stat = df_E2V.agg(lambda x: sigma_clipped_stats(x, sigma=sigma, maxiters=iterations))\n",
    "    ITL_stat = df_ITL.agg(lambda x: sigma_clipped_stats(x, sigma=sigma, maxiters=iterations))\n",
    "    all_stat = df_dropna[columns].agg(lambda x: sigma_clipped_stats(x, sigma=sigma, maxiters=iterations))\n",
    "    \n",
    "    #E2V_stat = E2V_clip.agg([\"mean\", \"std\"])\n",
    "    #ITL_stat = ITL_clip.agg([\"mean\", \"std\"])\n",
    "    #all_stat = all_clip.agg([\"mean\", \"std\"])\n",
    "    stats_group = {'E2V':E2V_stat, 'ITL':ITL_stat, 'All':all_stat}\n",
    "    \n",
    "    return clipping_group, stats_group\n",
    "\n",
    "\n",
    "def histograms_by_vendor(df_clip_vendor1, df_clip_vendor2, parameter, df_stats_vendor1, df_stats_vendor2, legends, xlabel, colors, precision, ax = ''):\n",
    "    \"\"\"\n",
    "    df_clip_vendor1: dataframe which has data for vendor 1\n",
    "    df_clip_vendor2: dataframe which has data for vendor 2\n",
    "    parameter: column to plot (gain, read-out noise...)\n",
    "    df_stats_vendor1: dataframe with mean and standard deviation for vendor 1. This accepts a dataframe obtained through groupby\n",
    "    df_stats_vendor2: dataframe with mean and standard deviation for vendor 2\n",
    "    legends: list with the labels for each vendor\n",
    "    xlabel: the label for x label\n",
    "    colors: list of two colors\n",
    "    precision: precision and format to print mean and standard deviation, e.g. '.2f'\n",
    "    \n",
    "    return: \n",
    "        -legend \n",
    "    \"\"\"\n",
    "    \n",
    "    alpha = 0.3\n",
    "    if ax == '':\n",
    "        fig, ax = plt.subplots()\n",
    "    plt.rcParams['legend.title_fontsize'] = 'x-large'\n",
    "    sns.histplot(data= df_clip_vendor1, x= parameter, ax=ax, element=\"step\", discrete=False, log_scale=[False, True], color = colors[0], label=legends[0], alpha=alpha);\n",
    "    sns.histplot(data= df_clip_vendor2, x= parameter, ax=ax, element=\"step\", discrete=False, log_scale=[False, True], color = colors[1], label=legends[1], alpha=alpha);\n",
    "    \n",
    "    for vendor_stat, color in zip([df_stats_vendor1, df_stats_vendor2], colors):\n",
    "        #ax.axvline(vendor_stat[parameter]['mean'], color = color)\n",
    "        ax.axvline(vendor_stat[parameter][0], color = color)\n",
    "    \n",
    "    #leg = ax.legend(title='Vendor', loc='lower center', bbox_to_anchor = (0.5,-0.45), labels=[f\"{legends[0]}: Mean = {df_stats_vendor1[parameter]['mean']:{precision}}, σ = {df_stats_vendor1[parameter]['std']:{precision}}\",f\"{legends[1]}: Mean = {df_stats_vendor2[parameter]['mean']:{precision}}, σ = {df_stats_vendor2[parameter]['std']:{precision}}\"])\n",
    "    leg = ax.legend(title='Vendor', loc='lower center', bbox_to_anchor = (0.5,-0.55), labels=[f\"{legends[0]}: Mean = {df_stats_vendor1[parameter][0]:{precision}}, σ = {df_stats_vendor1[parameter][2]:{precision}}\",f\"{legends[1]}: Mean = {df_stats_vendor2[parameter][0]:{precision}}, σ = {df_stats_vendor2[parameter][2]:{precision}}\"], fontsize = 14)\n",
    "    ax.set_xlabel(xlabel, fontsize = 18)\n",
    "    ax.set_ylabel('Count', fontsize = 18)\n",
    "    ax.tick_params(labelsize=14)\n",
    "    return leg"
   ]
  },
  {
   "cell_type": "markdown",
   "id": "82b001d7-c39f-4bbb-b6dd-498680e40c52",
   "metadata": {},
   "source": [
    "# Dictionary structure"
   ]
  },
  {
   "cell_type": "code",
   "execution_count": 3,
   "id": "8f074210-c833-4758-bab5-16ff3e7b361f",
   "metadata": {},
   "outputs": [],
   "source": [
    "ampNames = ['C00', 'C01', 'C02','C03','C04','C05','C06', 'C07', \n",
    "           'C10', 'C11', 'C12','C13','C14','C15','C16', 'C17']\n",
    "\n",
    "##Structure for a dictionary with a single parameter\n",
    "value = {ampName: '' for ampName in ampNames}\n",
    "##Structure for data from cpCovariances object\n",
    "cpCov= {ampName: {\"flux\": [], \"gain\": [], \"noise\": []} for ampName in ampNames}\n",
    "##Structure for data from PTC object\n",
    "ptc = {ampName: {\"gain\": '', \"rd_noise\": '', \"a00\": '', \"turnoff\": ''} for ampName in ampNames}\n"
   ]
  },
  {
   "cell_type": "markdown",
   "id": "d91d8fb9-56d2-47a8-b2f6-8360bfb5e1de",
   "metadata": {},
   "source": [
    "# Loading collection"
   ]
  },
  {
   "cell_type": "code",
   "execution_count": 4,
   "id": "45ee4ab2-3df6-42a1-afa1-b9b49f98ca85",
   "metadata": {},
   "outputs": [],
   "source": [
    "#genCollection = \"u/lgiraldo/bps_ALLCCD_20220701\"      ##Old code\n",
    "genCollection = \"u/lgiraldo/bps_ALLCCD_v2_20220804\"  ##New code\n",
    "butler = dB.Butler(\"/repo/main/\", collections=genCollection)"
   ]
  },
  {
   "cell_type": "markdown",
   "id": "53860aa2-3ec1-49ae-af81-91da9414daab",
   "metadata": {},
   "source": [
    "# CCD identifiers"
   ]
  },
  {
   "cell_type": "code",
   "execution_count": 5,
   "id": "95174527-8d54-4050-965d-ad34be9d6c5a",
   "metadata": {},
   "outputs": [],
   "source": [
    "camera = butler.get(\"camera\", instrument=\"LSSTCam\")\n",
    "\n",
    "det_name_to_id = {}  ##From name to number\n",
    "det_id_to_name = {}  ##From number to name\n",
    "det_name_array = []  ##List with names\n",
    "\n",
    "for det in camera:\n",
    "    #print(det.getName(), det.getId())\n",
    "    detName, detId = det.getName(), det.getId()\n",
    "    if detId < 189:\n",
    "        det_name_to_id[detName] = detId\n",
    "        det_id_to_name[detId] = detName\n",
    "        det_name_array.append(detName)"
   ]
  },
  {
   "attachments": {
    "6bd71a2d-eb21-4bde-8675-2196977ce754.png": {
     "image/png": "[encoded data removed]"
    }
   },
   "cell_type": "markdown",
   "id": "afe80e66-e79e-4300-9f2c-78d19134d6c2",
   "metadata": {},
   "source": [
    "![image.png](attachment:6bd71a2d-eb21-4bde-8675-2196977ce754.png)"
   ]
  },
  {
   "cell_type": "markdown",
   "id": "382c351f-7b25-4c87-870f-4ba338fd4618",
   "metadata": {},
   "source": [
    "# Generating the list with the first value from pair of exposures"
   ]
  },
  {
   "cell_type": "code",
   "execution_count": 6,
   "id": "37492439-a085-44dd-9348-e681c5f3aac0",
   "metadata": {},
   "outputs": [],
   "source": [
    "CCD = 72\n",
    "ccd_data= butler.get(\"ptc\", instrument=\"LSSTCam\", detector=CCD)\n",
    "\n",
    "# Exposure pairs list\n",
    "exposure_pairs = np.array(sorted(ccd_data.inputExpIdPairs['C00']))\n",
    "exposure_first = exposure_pairs[:,0][:,0]"
   ]
  },
  {
   "cell_type": "markdown",
   "id": "fc167ab5-d8ee-40b7-8c93-241b361b0f34",
   "metadata": {},
   "source": [
    "## Saving exposures "
   ]
  },
  {
   "cell_type": "code",
   "execution_count": 7,
   "id": "2ca20e52-155a-412f-a166-9a0a882d44e1",
   "metadata": {},
   "outputs": [],
   "source": [
    "np.save('./Data_files/exposure_pairs.txt', np.reshape(exposure_pairs, (338, 2)))"
   ]
  },
  {
   "cell_type": "code",
   "execution_count": 8,
   "id": "a778c21d-6aed-4f9d-adbf-cd046fe0f8eb",
   "metadata": {},
   "outputs": [],
   "source": [
    "cpCovs = butler.get(\"cpCovariances\", instrument=\"LSSTCam\", detector=0, exposure=exposure_first[0])"
   ]
  },
  {
   "cell_type": "code",
   "execution_count": 9,
   "id": "82c92798-35c1-4d5e-a3e2-cc114e7eb454",
   "metadata": {},
   "outputs": [
    {
     "data": {
      "text/plain": [
       "(3021120600576,\n",
       " {'C00': 1.481415182494028,\n",
       "  'C01': 1.4988703769818197,\n",
       "  'C02': 1.5158805120476972,\n",
       "  'C03': 1.4340898831114448,\n",
       "  'C04': 1.4511134849312517,\n",
       "  'C05': 1.5743155790568217,\n",
       "  'C06': 1.4692488315658456,\n",
       "  'C07': 1.516210491812103,\n",
       "  'C10': 1.7310902966763335,\n",
       "  'C11': 1.7119689179878346,\n",
       "  'C12': 1.7162355814185344,\n",
       "  'C13': 1.7151995662224508,\n",
       "  'C14': 1.6768488479028552,\n",
       "  'C15': 1.7167728421196955,\n",
       "  'C16': 1.6670211229366108,\n",
       "  'C17': 1.5403268613405403})"
      ]
     },
     "execution_count": 9,
     "metadata": {},
     "output_type": "execute_result"
    }
   ],
   "source": [
    "exposure_first[0], cpCovs.gain"
   ]
  },
  {
   "cell_type": "markdown",
   "id": "246e09f8-704a-4494-b475-5ae88dcd04c2",
   "metadata": {},
   "source": [
    "# Loading PTC data "
   ]
  },
  {
   "cell_type": "code",
   "execution_count": 10,
   "id": "eb5dd661-722a-4ec2-8b26-23cdbddcf3b3",
   "metadata": {},
   "outputs": [],
   "source": [
    "#with open('./Data_files/PTC_allvalues_dict.yaml', 'r') as file:  ##Old code\n",
    "with open('./Data_files/PTC_allvalues_dict_2022AUG05.yaml', 'r') as file:  ##New code\n",
    "    PTC_data_dict = yaml.safe_load(file)\n",
    "    \n",
    "PTC_data = create_df_PTC(PTC_data_dict, np.arange(189))"
   ]
  },
  {
   "cell_type": "code",
   "execution_count": 74,
   "id": "f14d67e3-b497-4fba-bb13-6e03c10cc2ed",
   "metadata": {},
   "outputs": [],
   "source": [
    "PTC_data.to_csv('df_PTC_newcode.csv', index = False)"
   ]
  },
  {
   "cell_type": "code",
   "execution_count": 11,
   "id": "8efdd496-dbf0-4bcc-ab9c-a15e2af5610c",
   "metadata": {},
   "outputs": [
    {
     "name": "stdout",
     "output_type": "stream",
     "text": [
      "3024 -0.7081045920936081 0.0\n"
     ]
    },
    {
     "data": {
      "text/html": [
       "<div>\n",
       "<style scoped>\n",
       "    .dataframe tbody tr th:only-of-type {\n",
       "        vertical-align: middle;\n",
       "    }\n",
       "\n",
       "    .dataframe tbody tr th {\n",
       "        vertical-align: top;\n",
       "    }\n",
       "\n",
       "    .dataframe thead th {\n",
       "        text-align: right;\n",
       "    }\n",
       "</style>\n",
       "<table border=\"1\" class=\"dataframe\">\n",
       "  <thead>\n",
       "    <tr style=\"text-align: right;\">\n",
       "      <th></th>\n",
       "      <th>Detector_ID</th>\n",
       "      <th>Detector_Num</th>\n",
       "      <th>Vendor</th>\n",
       "      <th>Amplifier</th>\n",
       "      <th>Gain</th>\n",
       "      <th>Read_Noise</th>\n",
       "      <th>A00</th>\n",
       "      <th>TurnOff</th>\n",
       "    </tr>\n",
       "  </thead>\n",
       "  <tbody>\n",
       "    <tr>\n",
       "      <th>0</th>\n",
       "      <td>R01_S00</td>\n",
       "      <td>0</td>\n",
       "      <td>ITL</td>\n",
       "      <td>C00</td>\n",
       "      <td>1.602594</td>\n",
       "      <td>6.035249</td>\n",
       "      <td>-0.000002</td>\n",
       "      <td>74918.561200</td>\n",
       "    </tr>\n",
       "    <tr>\n",
       "      <th>1</th>\n",
       "      <td>R01_S00</td>\n",
       "      <td>0</td>\n",
       "      <td>ITL</td>\n",
       "      <td>C01</td>\n",
       "      <td>1.593339</td>\n",
       "      <td>5.937206</td>\n",
       "      <td>-0.000002</td>\n",
       "      <td>73830.511171</td>\n",
       "    </tr>\n",
       "    <tr>\n",
       "      <th>2</th>\n",
       "      <td>R01_S00</td>\n",
       "      <td>0</td>\n",
       "      <td>ITL</td>\n",
       "      <td>C02</td>\n",
       "      <td>1.590703</td>\n",
       "      <td>6.018622</td>\n",
       "      <td>-0.000002</td>\n",
       "      <td>72504.390664</td>\n",
       "    </tr>\n",
       "    <tr>\n",
       "      <th>3</th>\n",
       "      <td>R01_S00</td>\n",
       "      <td>0</td>\n",
       "      <td>ITL</td>\n",
       "      <td>C03</td>\n",
       "      <td>1.589087</td>\n",
       "      <td>6.080679</td>\n",
       "      <td>-0.000002</td>\n",
       "      <td>72801.819624</td>\n",
       "    </tr>\n",
       "    <tr>\n",
       "      <th>4</th>\n",
       "      <td>R01_S00</td>\n",
       "      <td>0</td>\n",
       "      <td>ITL</td>\n",
       "      <td>C04</td>\n",
       "      <td>1.583272</td>\n",
       "      <td>6.206142</td>\n",
       "      <td>-0.000002</td>\n",
       "      <td>73461.156208</td>\n",
       "    </tr>\n",
       "  </tbody>\n",
       "</table>\n",
       "</div>"
      ],
      "text/plain": [
       "  Detector_ID Detector_Num Vendor Amplifier      Gain  Read_Noise       A00  \\\n",
       "0     R01_S00            0    ITL       C00  1.602594    6.035249 -0.000002   \n",
       "1     R01_S00            0    ITL       C01  1.593339    5.937206 -0.000002   \n",
       "2     R01_S00            0    ITL       C02  1.590703    6.018622 -0.000002   \n",
       "3     R01_S00            0    ITL       C03  1.589087    6.080679 -0.000002   \n",
       "4     R01_S00            0    ITL       C04  1.583272    6.206142 -0.000002   \n",
       "\n",
       "        TurnOff  \n",
       "0  74918.561200  \n",
       "1  73830.511171  \n",
       "2  72504.390664  \n",
       "3  72801.819624  \n",
       "4  73461.156208  "
      ]
     },
     "execution_count": 11,
     "metadata": {},
     "output_type": "execute_result"
    }
   ],
   "source": [
    "print(len(PTC_data), PTC_data.A00.min(), PTC_data.TurnOff.min())\n",
    "PTC_data.head()"
   ]
  },
  {
   "cell_type": "markdown",
   "id": "eb3d785b-9683-418c-a6da-cf426369b939",
   "metadata": {},
   "source": [
    "Existen valores nulos solamente para los valores de A00 de los detectores 72 y 117. Las demás columnas están con valores de cero."
   ]
  },
  {
   "cell_type": "code",
   "execution_count": 12,
   "id": "263da1e0-57fe-46c1-924a-db1f1cd1e45e",
   "metadata": {},
   "outputs": [
    {
     "data": {
      "text/html": [
       "<div>\n",
       "<style scoped>\n",
       "    .dataframe tbody tr th:only-of-type {\n",
       "        vertical-align: middle;\n",
       "    }\n",
       "\n",
       "    .dataframe tbody tr th {\n",
       "        vertical-align: top;\n",
       "    }\n",
       "\n",
       "    .dataframe thead th {\n",
       "        text-align: right;\n",
       "    }\n",
       "</style>\n",
       "<table border=\"1\" class=\"dataframe\">\n",
       "  <thead>\n",
       "    <tr style=\"text-align: right;\">\n",
       "      <th></th>\n",
       "      <th>Detector_ID</th>\n",
       "      <th>Detector_Num</th>\n",
       "      <th>Vendor</th>\n",
       "      <th>Amplifier</th>\n",
       "      <th>Gain</th>\n",
       "      <th>Read_Noise</th>\n",
       "      <th>A00</th>\n",
       "      <th>TurnOff</th>\n",
       "    </tr>\n",
       "  </thead>\n",
       "  <tbody>\n",
       "    <tr>\n",
       "      <th>1167</th>\n",
       "      <td>R20_S00</td>\n",
       "      <td>72</td>\n",
       "      <td>ITL</td>\n",
       "      <td>C17</td>\n",
       "      <td>0.0</td>\n",
       "      <td>0.0</td>\n",
       "      <td>NaN</td>\n",
       "      <td>0.0</td>\n",
       "    </tr>\n",
       "    <tr>\n",
       "      <th>1880</th>\n",
       "      <td>R30_S00</td>\n",
       "      <td>117</td>\n",
       "      <td>E2V</td>\n",
       "      <td>C10</td>\n",
       "      <td>0.0</td>\n",
       "      <td>0.0</td>\n",
       "      <td>NaN</td>\n",
       "      <td>0.0</td>\n",
       "    </tr>\n",
       "  </tbody>\n",
       "</table>\n",
       "</div>"
      ],
      "text/plain": [
       "     Detector_ID Detector_Num Vendor Amplifier  Gain  Read_Noise  A00  TurnOff\n",
       "1167     R20_S00           72    ITL       C17   0.0         0.0  NaN      0.0\n",
       "1880     R30_S00          117    E2V       C10   0.0         0.0  NaN      0.0"
      ]
     },
     "execution_count": 12,
     "metadata": {},
     "output_type": "execute_result"
    }
   ],
   "source": [
    "PTC_data[PTC_data.A00.isnull()]"
   ]
  },
  {
   "cell_type": "markdown",
   "id": "3afa4ebe-8242-4e64-932f-bcbdb4317534",
   "metadata": {},
   "source": [
    "El valor usual de la ganancia se encuentra alrededor de 3. Solo el detector 22 en su amplificador C00 tiene un valor superior a este (muy superior). "
   ]
  },
  {
   "cell_type": "code",
   "execution_count": 13,
   "id": "c69cffea-2b7a-47fb-9df6-0b8cd7476499",
   "metadata": {},
   "outputs": [
    {
     "data": {
      "text/html": [
       "<div>\n",
       "<style scoped>\n",
       "    .dataframe tbody tr th:only-of-type {\n",
       "        vertical-align: middle;\n",
       "    }\n",
       "\n",
       "    .dataframe tbody tr th {\n",
       "        vertical-align: top;\n",
       "    }\n",
       "\n",
       "    .dataframe thead th {\n",
       "        text-align: right;\n",
       "    }\n",
       "</style>\n",
       "<table border=\"1\" class=\"dataframe\">\n",
       "  <thead>\n",
       "    <tr style=\"text-align: right;\">\n",
       "      <th></th>\n",
       "      <th>Detector_ID</th>\n",
       "      <th>Detector_Num</th>\n",
       "      <th>Vendor</th>\n",
       "      <th>Amplifier</th>\n",
       "      <th>Gain</th>\n",
       "      <th>Read_Noise</th>\n",
       "      <th>A00</th>\n",
       "      <th>TurnOff</th>\n",
       "    </tr>\n",
       "  </thead>\n",
       "  <tbody>\n",
       "    <tr>\n",
       "      <th>352</th>\n",
       "      <td>R03_S11</td>\n",
       "      <td>22</td>\n",
       "      <td>ITL</td>\n",
       "      <td>C00</td>\n",
       "      <td>15.21174</td>\n",
       "      <td>44.008695</td>\n",
       "      <td>-0.708105</td>\n",
       "      <td>223.072261</td>\n",
       "    </tr>\n",
       "  </tbody>\n",
       "</table>\n",
       "</div>"
      ],
      "text/plain": [
       "    Detector_ID Detector_Num Vendor Amplifier      Gain  Read_Noise       A00  \\\n",
       "352     R03_S11           22    ITL       C00  15.21174   44.008695 -0.708105   \n",
       "\n",
       "        TurnOff  \n",
       "352  223.072261  "
      ]
     },
     "execution_count": 13,
     "metadata": {},
     "output_type": "execute_result"
    }
   ],
   "source": [
    "PTC_data[PTC_data.Gain > 2]"
   ]
  },
  {
   "cell_type": "markdown",
   "id": "8253b097-8c62-42e2-ba1c-1da458e226e2",
   "metadata": {},
   "source": [
    "## Detector with low PTC-turnoff (< 40000 ADU)"
   ]
  },
  {
   "cell_type": "code",
   "execution_count": 14,
   "id": "d4098343-7e8d-4ec9-8b3e-70f2468e36a2",
   "metadata": {},
   "outputs": [
    {
     "data": {
      "text/html": [
       "<div>\n",
       "<style scoped>\n",
       "    .dataframe tbody tr th:only-of-type {\n",
       "        vertical-align: middle;\n",
       "    }\n",
       "\n",
       "    .dataframe tbody tr th {\n",
       "        vertical-align: top;\n",
       "    }\n",
       "\n",
       "    .dataframe thead th {\n",
       "        text-align: right;\n",
       "    }\n",
       "</style>\n",
       "<table border=\"1\" class=\"dataframe\">\n",
       "  <thead>\n",
       "    <tr style=\"text-align: right;\">\n",
       "      <th></th>\n",
       "      <th>Detector_ID</th>\n",
       "      <th>Detector_Num</th>\n",
       "      <th>Vendor</th>\n",
       "      <th>Amplifier</th>\n",
       "      <th>Gain</th>\n",
       "      <th>Read_Noise</th>\n",
       "      <th>A00</th>\n",
       "      <th>TurnOff</th>\n",
       "    </tr>\n",
       "  </thead>\n",
       "  <tbody>\n",
       "    <tr>\n",
       "      <th>255</th>\n",
       "      <td>R02_S20</td>\n",
       "      <td>15</td>\n",
       "      <td>ITL</td>\n",
       "      <td>C17</td>\n",
       "      <td>1.671910</td>\n",
       "      <td>5.819732</td>\n",
       "      <td>-0.000002</td>\n",
       "      <td>30567.376706</td>\n",
       "    </tr>\n",
       "    <tr>\n",
       "      <th>352</th>\n",
       "      <td>R03_S11</td>\n",
       "      <td>22</td>\n",
       "      <td>ITL</td>\n",
       "      <td>C00</td>\n",
       "      <td>15.211740</td>\n",
       "      <td>44.008695</td>\n",
       "      <td>-0.708105</td>\n",
       "      <td>223.072261</td>\n",
       "    </tr>\n",
       "    <tr>\n",
       "      <th>504</th>\n",
       "      <td>R10_S11</td>\n",
       "      <td>31</td>\n",
       "      <td>ITL</td>\n",
       "      <td>C10</td>\n",
       "      <td>1.634126</td>\n",
       "      <td>4.131770</td>\n",
       "      <td>-0.000004</td>\n",
       "      <td>32842.445964</td>\n",
       "    </tr>\n",
       "    <tr>\n",
       "      <th>1167</th>\n",
       "      <td>R20_S00</td>\n",
       "      <td>72</td>\n",
       "      <td>ITL</td>\n",
       "      <td>C17</td>\n",
       "      <td>0.000000</td>\n",
       "      <td>0.000000</td>\n",
       "      <td>NaN</td>\n",
       "      <td>0.000000</td>\n",
       "    </tr>\n",
       "    <tr>\n",
       "      <th>1168</th>\n",
       "      <td>R20_S01</td>\n",
       "      <td>73</td>\n",
       "      <td>ITL</td>\n",
       "      <td>C00</td>\n",
       "      <td>1.608303</td>\n",
       "      <td>6.452793</td>\n",
       "      <td>-0.000003</td>\n",
       "      <td>35507.397317</td>\n",
       "    </tr>\n",
       "    <tr>\n",
       "      <th>1232</th>\n",
       "      <td>R20_S12</td>\n",
       "      <td>77</td>\n",
       "      <td>ITL</td>\n",
       "      <td>C00</td>\n",
       "      <td>1.592316</td>\n",
       "      <td>4.704270</td>\n",
       "      <td>-0.000008</td>\n",
       "      <td>26827.109317</td>\n",
       "    </tr>\n",
       "    <tr>\n",
       "      <th>1880</th>\n",
       "      <td>R30_S00</td>\n",
       "      <td>117</td>\n",
       "      <td>E2V</td>\n",
       "      <td>C10</td>\n",
       "      <td>0.000000</td>\n",
       "      <td>0.000000</td>\n",
       "      <td>NaN</td>\n",
       "      <td>0.000000</td>\n",
       "    </tr>\n",
       "    <tr>\n",
       "      <th>2702</th>\n",
       "      <td>R41_S20</td>\n",
       "      <td>168</td>\n",
       "      <td>ITL</td>\n",
       "      <td>C16</td>\n",
       "      <td>1.610736</td>\n",
       "      <td>6.078176</td>\n",
       "      <td>-0.000002</td>\n",
       "      <td>37863.166694</td>\n",
       "    </tr>\n",
       "    <tr>\n",
       "      <th>2703</th>\n",
       "      <td>R41_S20</td>\n",
       "      <td>168</td>\n",
       "      <td>ITL</td>\n",
       "      <td>C17</td>\n",
       "      <td>1.592275</td>\n",
       "      <td>9.572562</td>\n",
       "      <td>-0.000003</td>\n",
       "      <td>26119.952505</td>\n",
       "    </tr>\n",
       "    <tr>\n",
       "      <th>2706</th>\n",
       "      <td>R41_S21</td>\n",
       "      <td>169</td>\n",
       "      <td>ITL</td>\n",
       "      <td>C02</td>\n",
       "      <td>1.080946</td>\n",
       "      <td>62.877515</td>\n",
       "      <td>-0.000045</td>\n",
       "      <td>16237.884413</td>\n",
       "    </tr>\n",
       "    <tr>\n",
       "      <th>2713</th>\n",
       "      <td>R41_S21</td>\n",
       "      <td>169</td>\n",
       "      <td>ITL</td>\n",
       "      <td>C11</td>\n",
       "      <td>1.612547</td>\n",
       "      <td>5.233120</td>\n",
       "      <td>-0.000003</td>\n",
       "      <td>32467.252352</td>\n",
       "    </tr>\n",
       "    <tr>\n",
       "      <th>2717</th>\n",
       "      <td>R41_S21</td>\n",
       "      <td>169</td>\n",
       "      <td>ITL</td>\n",
       "      <td>C15</td>\n",
       "      <td>1.598044</td>\n",
       "      <td>5.217567</td>\n",
       "      <td>-0.000002</td>\n",
       "      <td>39151.298260</td>\n",
       "    </tr>\n",
       "    <tr>\n",
       "      <th>2728</th>\n",
       "      <td>R41_S22</td>\n",
       "      <td>170</td>\n",
       "      <td>ITL</td>\n",
       "      <td>C10</td>\n",
       "      <td>1.601710</td>\n",
       "      <td>4.767413</td>\n",
       "      <td>-0.000003</td>\n",
       "      <td>32369.930511</td>\n",
       "    </tr>\n",
       "    <tr>\n",
       "      <th>2751</th>\n",
       "      <td>R42_S00</td>\n",
       "      <td>171</td>\n",
       "      <td>ITL</td>\n",
       "      <td>C17</td>\n",
       "      <td>1.651604</td>\n",
       "      <td>6.425401</td>\n",
       "      <td>-0.000003</td>\n",
       "      <td>30253.290689</td>\n",
       "    </tr>\n",
       "    <tr>\n",
       "      <th>2943</th>\n",
       "      <td>R43_S10</td>\n",
       "      <td>183</td>\n",
       "      <td>ITL</td>\n",
       "      <td>C17</td>\n",
       "      <td>1.597215</td>\n",
       "      <td>8.533515</td>\n",
       "      <td>-0.000002</td>\n",
       "      <td>30195.170427</td>\n",
       "    </tr>\n",
       "    <tr>\n",
       "      <th>3009</th>\n",
       "      <td>R43_S22</td>\n",
       "      <td>188</td>\n",
       "      <td>ITL</td>\n",
       "      <td>C01</td>\n",
       "      <td>1.634797</td>\n",
       "      <td>5.288255</td>\n",
       "      <td>-0.000005</td>\n",
       "      <td>21477.482774</td>\n",
       "    </tr>\n",
       "    <tr>\n",
       "      <th>3010</th>\n",
       "      <td>R43_S22</td>\n",
       "      <td>188</td>\n",
       "      <td>ITL</td>\n",
       "      <td>C02</td>\n",
       "      <td>1.553815</td>\n",
       "      <td>6.946252</td>\n",
       "      <td>-0.000007</td>\n",
       "      <td>30764.308200</td>\n",
       "    </tr>\n",
       "    <tr>\n",
       "      <th>3011</th>\n",
       "      <td>R43_S22</td>\n",
       "      <td>188</td>\n",
       "      <td>ITL</td>\n",
       "      <td>C03</td>\n",
       "      <td>1.568256</td>\n",
       "      <td>7.249176</td>\n",
       "      <td>-0.000005</td>\n",
       "      <td>38222.440339</td>\n",
       "    </tr>\n",
       "    <tr>\n",
       "      <th>3012</th>\n",
       "      <td>R43_S22</td>\n",
       "      <td>188</td>\n",
       "      <td>ITL</td>\n",
       "      <td>C04</td>\n",
       "      <td>1.581469</td>\n",
       "      <td>3.762909</td>\n",
       "      <td>-0.000005</td>\n",
       "      <td>38143.557710</td>\n",
       "    </tr>\n",
       "  </tbody>\n",
       "</table>\n",
       "</div>"
      ],
      "text/plain": [
       "     Detector_ID Detector_Num Vendor Amplifier       Gain  Read_Noise  \\\n",
       "255      R02_S20           15    ITL       C17   1.671910    5.819732   \n",
       "352      R03_S11           22    ITL       C00  15.211740   44.008695   \n",
       "504      R10_S11           31    ITL       C10   1.634126    4.131770   \n",
       "1167     R20_S00           72    ITL       C17   0.000000    0.000000   \n",
       "1168     R20_S01           73    ITL       C00   1.608303    6.452793   \n",
       "1232     R20_S12           77    ITL       C00   1.592316    4.704270   \n",
       "1880     R30_S00          117    E2V       C10   0.000000    0.000000   \n",
       "2702     R41_S20          168    ITL       C16   1.610736    6.078176   \n",
       "2703     R41_S20          168    ITL       C17   1.592275    9.572562   \n",
       "2706     R41_S21          169    ITL       C02   1.080946   62.877515   \n",
       "2713     R41_S21          169    ITL       C11   1.612547    5.233120   \n",
       "2717     R41_S21          169    ITL       C15   1.598044    5.217567   \n",
       "2728     R41_S22          170    ITL       C10   1.601710    4.767413   \n",
       "2751     R42_S00          171    ITL       C17   1.651604    6.425401   \n",
       "2943     R43_S10          183    ITL       C17   1.597215    8.533515   \n",
       "3009     R43_S22          188    ITL       C01   1.634797    5.288255   \n",
       "3010     R43_S22          188    ITL       C02   1.553815    6.946252   \n",
       "3011     R43_S22          188    ITL       C03   1.568256    7.249176   \n",
       "3012     R43_S22          188    ITL       C04   1.581469    3.762909   \n",
       "\n",
       "           A00       TurnOff  \n",
       "255  -0.000002  30567.376706  \n",
       "352  -0.708105    223.072261  \n",
       "504  -0.000004  32842.445964  \n",
       "1167       NaN      0.000000  \n",
       "1168 -0.000003  35507.397317  \n",
       "1232 -0.000008  26827.109317  \n",
       "1880       NaN      0.000000  \n",
       "2702 -0.000002  37863.166694  \n",
       "2703 -0.000003  26119.952505  \n",
       "2706 -0.000045  16237.884413  \n",
       "2713 -0.000003  32467.252352  \n",
       "2717 -0.000002  39151.298260  \n",
       "2728 -0.000003  32369.930511  \n",
       "2751 -0.000003  30253.290689  \n",
       "2943 -0.000002  30195.170427  \n",
       "3009 -0.000005  21477.482774  \n",
       "3010 -0.000007  30764.308200  \n",
       "3011 -0.000005  38222.440339  \n",
       "3012 -0.000005  38143.557710  "
      ]
     },
     "execution_count": 14,
     "metadata": {},
     "output_type": "execute_result"
    }
   ],
   "source": [
    "low_turnoff = PTC_data[PTC_data.TurnOff <= 40000]\n",
    "low_turnoff"
   ]
  },
  {
   "cell_type": "code",
   "execution_count": 16,
   "id": "3b16fee3-a2eb-4682-8612-28fe7952a34e",
   "metadata": {},
   "outputs": [],
   "source": [
    "#print(tabulate(low_turnoff, low_turnoff.columns, tablefmt=\"latex\"))"
   ]
  },
  {
   "cell_type": "markdown",
   "id": "24b99843-1c7e-46d6-8074-4dd01e27d229",
   "metadata": {},
   "source": [
    "## PTC histograms"
   ]
  },
  {
   "cell_type": "code",
   "execution_count": 17,
   "id": "33384877-e58c-4cc8-a72e-8cbbbfbfe2cf",
   "metadata": {},
   "outputs": [
    {
     "data": {
      "image/png": "[encoded data removed]",
      "text/plain": [
       "<Figure size 1080x360 with 2 Axes>"
      ]
     },
     "metadata": {
      "needs_background": "light"
     },
     "output_type": "display_data"
    },
    {
     "data": {
      "image/png": "[encoded data removed]",
      "text/plain": [
       "<Figure size 1080x360 with 2 Axes>"
      ]
     },
     "metadata": {
      "needs_background": "light"
     },
     "output_type": "display_data"
    },
    {
     "data": {
      "image/png": "[encoded data removed]",
      "text/plain": [
       "<Figure size 1080x360 with 2 Axes>"
      ]
     },
     "metadata": {
      "needs_background": "light"
     },
     "output_type": "display_data"
    },
    {
     "data": {
      "image/png": "[encoded data removed]",
      "text/plain": [
       "<Figure size 360x360 with 1 Axes>"
      ]
     },
     "metadata": {
      "needs_background": "light"
     },
     "output_type": "display_data"
    }
   ],
   "source": [
    "fig, axes = plt.subplots(1,2, figsize= (15,5))\n",
    "sns.histplot(data = PTC_data, x= 'Gain', bins=300, element=\"step\", fill=False, log_scale=[False,True], ax= axes[0]);\n",
    "sns.histplot(data = PTC_data, x= 'Gain', bins=300, element=\"step\", fill=False, log_scale=[False,True], ax= axes[1], binrange=[0,3]);\n",
    "\n",
    "fig, axes = plt.subplots(1,2, figsize= (15,5))\n",
    "sns.histplot(data = PTC_data, x= 'Read_Noise', bins=300, element=\"step\", fill=False, log_scale=[False,True], ax=axes[0]);\n",
    "sns.histplot(data = PTC_data, x= 'Read_Noise', bins=300, element=\"step\", fill=False, log_scale=[False,True], ax=axes[1], binrange=[0,20]);\n",
    "\n",
    "fig, axes = plt.subplots(1,2, figsize= (15,5))\n",
    "sns.histplot(data = PTC_data, x= 'A00',  element=\"step\", fill=False, log_scale=[False,True], ax=axes[0]);\n",
    "sns.histplot(data = PTC_data, x= 'A00',  element=\"step\", fill=False, log_scale=[False,True], ax=axes[1], binrange=[-1e-5,0]);\n",
    "#plt.xlim(-0.00005, 0)\n",
    "sns.displot(data = PTC_data, x= 'TurnOff', bins=300, element=\"step\", fill=False, log_scale=[False,False]);\n",
    "#plt.xlim(0,3)"
   ]
  },
  {
   "attachments": {
    "3f59e23f-0303-4278-868c-b7e15e346d11.png": {
     "image/png": "[encoded data removed]"
    }
   },
   "cell_type": "markdown",
   "id": "474c028e-bb78-436b-b4fa-a87a1d4a0d59",
   "metadata": {},
   "source": [
    "## PTC histogram made by SLAC\n",
    "https://srs.slac.stanford.edu/BOT_EO_Reports/13144/\n",
    "\n",
    "![image.png](attachment:3f59e23f-0303-4278-868c-b7e15e346d11.png)"
   ]
  },
  {
   "cell_type": "markdown",
   "id": "f48b4ab8-0259-4dfb-a692-fb85102a9c2c",
   "metadata": {},
   "source": [
    "# Loagind cpCovariances"
   ]
  },
  {
   "cell_type": "code",
   "execution_count": 18,
   "id": "2a782868-62e7-4a70-9143-18b2604539ee",
   "metadata": {},
   "outputs": [],
   "source": [
    "#with open('./Data_files/BOT_gains_from_flats_2022JUL14.yaml', 'r') as file:  ##Old code\n",
    "with open('./Data_files/BOT_gains_from_flats_2022AUG05.yaml', 'r') as file:  ##New code\n",
    "    cp_values = yaml.safe_load(file)"
   ]
  },
  {
   "cell_type": "code",
   "execution_count": 19,
   "id": "4c2d5689-fd80-46d6-b538-b03410549fb8",
   "metadata": {},
   "outputs": [
    {
     "data": {
      "text/html": [
       "<div>\n",
       "<style scoped>\n",
       "    .dataframe tbody tr th:only-of-type {\n",
       "        vertical-align: middle;\n",
       "    }\n",
       "\n",
       "    .dataframe tbody tr th {\n",
       "        vertical-align: top;\n",
       "    }\n",
       "\n",
       "    .dataframe thead th {\n",
       "        text-align: right;\n",
       "    }\n",
       "</style>\n",
       "<table border=\"1\" class=\"dataframe\">\n",
       "  <thead>\n",
       "    <tr style=\"text-align: right;\">\n",
       "      <th></th>\n",
       "      <th>Detector_ID</th>\n",
       "      <th>Detector_Num</th>\n",
       "      <th>Vendor</th>\n",
       "      <th>Amplifier</th>\n",
       "      <th>Flux</th>\n",
       "      <th>Gain</th>\n",
       "      <th>Read_Noise</th>\n",
       "    </tr>\n",
       "  </thead>\n",
       "  <tbody>\n",
       "    <tr>\n",
       "      <th>0</th>\n",
       "      <td>R01_S00</td>\n",
       "      <td>0</td>\n",
       "      <td>ITL</td>\n",
       "      <td>C00</td>\n",
       "      <td>243.170201</td>\n",
       "      <td>1.561976</td>\n",
       "      <td>3.634567</td>\n",
       "    </tr>\n",
       "    <tr>\n",
       "      <th>1</th>\n",
       "      <td>R01_S00</td>\n",
       "      <td>0</td>\n",
       "      <td>ITL</td>\n",
       "      <td>C00</td>\n",
       "      <td>54.638722</td>\n",
       "      <td>1.480600</td>\n",
       "      <td>3.634567</td>\n",
       "    </tr>\n",
       "    <tr>\n",
       "      <th>2</th>\n",
       "      <td>R01_S00</td>\n",
       "      <td>0</td>\n",
       "      <td>ITL</td>\n",
       "      <td>C00</td>\n",
       "      <td>409.804666</td>\n",
       "      <td>1.590254</td>\n",
       "      <td>3.634567</td>\n",
       "    </tr>\n",
       "    <tr>\n",
       "      <th>3</th>\n",
       "      <td>R01_S00</td>\n",
       "      <td>0</td>\n",
       "      <td>ITL</td>\n",
       "      <td>C00</td>\n",
       "      <td>23.023668</td>\n",
       "      <td>1.389505</td>\n",
       "      <td>3.634567</td>\n",
       "    </tr>\n",
       "    <tr>\n",
       "      <th>4</th>\n",
       "      <td>R01_S00</td>\n",
       "      <td>0</td>\n",
       "      <td>ITL</td>\n",
       "      <td>C00</td>\n",
       "      <td>128.393437</td>\n",
       "      <td>1.605472</td>\n",
       "      <td>3.634567</td>\n",
       "    </tr>\n",
       "  </tbody>\n",
       "</table>\n",
       "</div>"
      ],
      "text/plain": [
       "  Detector_ID Detector_Num Vendor Amplifier        Flux      Gain  Read_Noise\n",
       "0     R01_S00            0    ITL       C00  243.170201  1.561976    3.634567\n",
       "1     R01_S00            0    ITL       C00   54.638722  1.480600    3.634567\n",
       "2     R01_S00            0    ITL       C00  409.804666  1.590254    3.634567\n",
       "3     R01_S00            0    ITL       C00   23.023668  1.389505    3.634567\n",
       "4     R01_S00            0    ITL       C00  128.393437  1.605472    3.634567"
      ]
     },
     "execution_count": 19,
     "metadata": {},
     "output_type": "execute_result"
    }
   ],
   "source": [
    "cpCov_data = create_df_cpCov(cp_values, np.arange(189))\n",
    "cpCov_data.head()"
   ]
  },
  {
   "cell_type": "code",
   "execution_count": 75,
   "id": "2437a376-4325-4d3d-bdca-2bc143113bf1",
   "metadata": {},
   "outputs": [],
   "source": [
    "cpCov_data.to_csv('df_cpCov_newcode.csv', index = False)"
   ]
  },
  {
   "cell_type": "markdown",
   "id": "20973a38-581b-468a-83b3-56449b765007",
   "metadata": {},
   "source": [
    "Los detectores 72 y 117 contienen valores nulos del flujo (400 puntos nulos) correspondiente a dos amplificadores, C17(detector 72) y C10 (detector 117). La ganancia tiene un valor de cero (det 72) y valores negativos (det 117, incluye cero)."
   ]
  },
  {
   "cell_type": "code",
   "execution_count": 20,
   "id": "84f92092-b293-4792-a512-86aaa8cb0285",
   "metadata": {},
   "outputs": [
    {
     "data": {
      "text/plain": [
       "394094     72\n",
       "635209    117\n",
       "Name: Detector_Num, dtype: object"
      ]
     },
     "execution_count": 20,
     "metadata": {},
     "output_type": "execute_result"
    }
   ],
   "source": [
    "nan_flux = cpCov_data.loc[cpCov_data.Flux.isnull()]\n",
    "nan_flux.Detector_Num.drop_duplicates()"
   ]
  },
  {
   "cell_type": "code",
   "execution_count": 21,
   "id": "62c33a3b-c0fc-44fa-bc62-41824c2f474e",
   "metadata": {},
   "outputs": [
    {
     "data": {
      "text/plain": [
       "(394094    C17\n",
       " Name: Amplifier, dtype: object,\n",
       " 394094    0.0\n",
       " Name: Gain, dtype: float64)"
      ]
     },
     "execution_count": 21,
     "metadata": {},
     "output_type": "execute_result"
    }
   ],
   "source": [
    "nan_flux[nan_flux.Detector_Num==72].Amplifier.drop_duplicates(), nan_flux[nan_flux.Detector_Num==72].Gain.drop_duplicates()"
   ]
  },
  {
   "cell_type": "code",
   "execution_count": 22,
   "id": "18c8ac12-6f10-4f59-be03-f79c60600fbf",
   "metadata": {},
   "outputs": [],
   "source": [
    "nan_flux[nan_flux.Detector_Num==117].Amplifier.drop_duplicates(), nan_flux[nan_flux.Detector_Num==117].Gain.drop_duplicates();"
   ]
  },
  {
   "cell_type": "code",
   "execution_count": 23,
   "id": "16b7ff47-3cab-46d9-b8db-0cdf19ac1d3f",
   "metadata": {},
   "outputs": [
    {
     "name": "stdout",
     "output_type": "stream",
     "text": [
      "El número de ganancias negativas o iguales a cero son 913. Por detector hay: 162\n",
      "Los detectores con ganancias negativas son: [2 17 22 72 79 112 117 118 169 180]\n"
     ]
    }
   ],
   "source": [
    "negative_cpCov = cpCov_data[cpCov_data.Gain <= 0]\n",
    "negative_cpCov_det = negative_cpCov.Detector_Num.drop_duplicates()\n",
    "print(f\"El número de ganancias negativas o iguales a cero son {len(negative_cpCov)}. Por detector hay: {len(negative_cpCov[negative_cpCov.Detector_Num == 22])}\")\n",
    "print(f\"Los detectores con ganancias negativas son: {negative_cpCov_det.values}\")"
   ]
  },
  {
   "cell_type": "code",
   "execution_count": 24,
   "id": "637924d4-f29b-4ea5-b719-6a97e9185362",
   "metadata": {},
   "outputs": [
    {
     "data": {
      "image/png": "[encoded data removed]",
      "text/plain": [
       "<Figure size 360x360 with 1 Axes>"
      ]
     },
     "metadata": {
      "needs_background": "light"
     },
     "output_type": "display_data"
    },
    {
     "data": {
      "image/png": "[encoded data removed]",
      "text/plain": [
       "<Figure size 360x360 with 1 Axes>"
      ]
     },
     "metadata": {
      "needs_background": "light"
     },
     "output_type": "display_data"
    }
   ],
   "source": [
    "sns.displot(data = negative_cpCov, x='Gain', element=\"step\", bins = 30,  fill=False, log_scale=[False,True]);\n",
    "sns.displot(data = negative_cpCov, x='Flux', element=\"step\", bins = 30,  fill=False, log_scale=[False,True]);"
   ]
  },
  {
   "cell_type": "markdown",
   "id": "3564b120-c84e-464b-9086-4cbf5fd24262",
   "metadata": {},
   "source": [
    "# Creating the dictionary structure for the values of slope (m) and the Pearson's correlation coefficient (r). For all rafts"
   ]
  },
  {
   "cell_type": "code",
   "execution_count": 25,
   "id": "72cac667-ac71-43e9-a281-7745eac19227",
   "metadata": {},
   "outputs": [],
   "source": [
    "all_rafts_m = {detName: copy.deepcopy(value) for detName in det_name_array}\n",
    "all_rafts_b = {detName: copy.deepcopy(value) for detName in det_name_array}\n",
    "all_rafts_r = {detName: copy.deepcopy(value) for detName in det_name_array}"
   ]
  },
  {
   "cell_type": "markdown",
   "id": "10dabd8c-6754-4996-a4f5-7d4aba3aa51f",
   "metadata": {},
   "source": [
    "## Function to plot the relative percentage error between the gain and to calculate m and r"
   ]
  },
  {
   "cell_type": "code",
   "execution_count": 26,
   "id": "86ab094a-933a-48db-856e-902b1ea3ac69",
   "metadata": {
    "tags": []
   },
   "outputs": [
    {
     "name": "stdout",
     "output_type": "stream",
     "text": [
      "There's no flux between 5000 and 10000 ADU for detector 22 and amplifier C00\n",
      "\n",
      "PTC gain is equal to zero for detector 72 and amplifier C17\n",
      "There's no flux between 5000 and 10000 ADU for detector 72 and amplifier C17\n",
      "\n",
      "PTC gain is equal to zero for detector 117 and amplifier C10\n",
      "There's no flux between 5000 and 10000 ADU for detector 117 and amplifier C10\n"
     ]
    }
   ],
   "source": [
    "## Using df constructed from dictionary\n",
    "for k in range(189):    \n",
    "    fig = plt.figure(figsize=(15,6))\n",
    "    plot_relative_error_gain(fig, PTC_data, cpCov_data, k, [all_rafts_m, all_rafts_b, all_rafts_r], where_save = './Image_test')"
   ]
  },
  {
   "cell_type": "code",
   "execution_count": 26,
   "id": "68f5b7d8-3633-44b1-8f21-b8c4169c1224",
   "metadata": {},
   "outputs": [],
   "source": [
    "date = '2022AUG05' \n",
    "#Dump data in a yaml file\n",
    "with open(f'./Data_files/Slope_LowFluxRegime_{date}.yaml', 'w') as outfile:\n",
    "    yaml.dump(all_rafts_m, outfile)\n",
    "    \n",
    "with open(f'./Data_files/Offset_LowFluxRegime_{date}.yaml', 'w') as outfile:\n",
    "    yaml.dump(all_rafts_b, outfile)\n",
    "    \n",
    "with open(f'./Data_files/Correlation_coefficient_LowFluxRegime_{date}.yaml', 'w') as outfile:\n",
    "    yaml.dump(all_rafts_r, outfile)"
   ]
  },
  {
   "cell_type": "markdown",
   "id": "961e1e61-01f9-4359-b6b7-06be913d3b28",
   "metadata": {},
   "source": [
    "## Plotting the problematic amplifiers\n",
    "\n",
    "The amplifier 'C17' from detector 72 has NaN values in the whole flux."
   ]
  },
  {
   "cell_type": "code",
   "execution_count": 27,
   "id": "f1895059-d686-450b-8cc8-9981079a7f28",
   "metadata": {},
   "outputs": [
    {
     "data": {
      "image/png": "[encoded data removed]",
      "text/plain": [
       "<Figure size 576x360 with 3 Axes>"
      ]
     },
     "metadata": {
      "needs_background": "light"
     },
     "output_type": "display_data"
    }
   ],
   "source": [
    "det22 = cpCov_data[(cpCov_data.Detector_Num ==22)&(cpCov_data.Amplifier == 'C00')]\n",
    "det72 = cpCov_data[(cpCov_data.Detector_Num ==72)&(cpCov_data.Amplifier == 'C17')]\n",
    "det117 = cpCov_data[(cpCov_data.Detector_Num ==117)&(cpCov_data.Amplifier == 'C10')]\n",
    "\n",
    "fig, axes = plt.subplots(1,3, figsize=(8,5))\n",
    "det22.plot.scatter( x= 'Flux', y = 'Gain', ax=axes[0], title= f'Detector 22, {det_id_to_name[22]}', color='crimson')\n",
    "det72.plot.scatter( x= 'Flux', y = 'Gain', ax=axes[1], title= f'Detector 72, {det_id_to_name[72]}', color='crimson')\n",
    "det117.plot.scatter( x= 'Flux', y = 'Gain', ax=axes[2], title= f'Detector 117, {det_id_to_name[117]}', color='crimson');\n",
    "fig.tight_layout()"
   ]
  },
  {
   "cell_type": "markdown",
   "id": "1639232d-6519-41c4-bd30-a97d622b2c89",
   "metadata": {},
   "source": [
    "# Dataframe for m, b y r values"
   ]
  },
  {
   "cell_type": "code",
   "execution_count": 28,
   "id": "f44a6da8-0943-4014-96b7-4f622a045711",
   "metadata": {},
   "outputs": [
    {
     "data": {
      "text/html": [
       "<div>\n",
       "<style scoped>\n",
       "    .dataframe tbody tr th:only-of-type {\n",
       "        vertical-align: middle;\n",
       "    }\n",
       "\n",
       "    .dataframe tbody tr th {\n",
       "        vertical-align: top;\n",
       "    }\n",
       "\n",
       "    .dataframe thead th {\n",
       "        text-align: right;\n",
       "    }\n",
       "</style>\n",
       "<table border=\"1\" class=\"dataframe\">\n",
       "  <thead>\n",
       "    <tr style=\"text-align: right;\">\n",
       "      <th></th>\n",
       "      <th>Detector_ID</th>\n",
       "      <th>Detector_Num</th>\n",
       "      <th>Vendor</th>\n",
       "      <th>Amplifier</th>\n",
       "      <th>Slope</th>\n",
       "      <th>Offset</th>\n",
       "      <th>Correlation_Coef</th>\n",
       "    </tr>\n",
       "  </thead>\n",
       "  <tbody>\n",
       "    <tr>\n",
       "      <th>0</th>\n",
       "      <td>R01_S00</td>\n",
       "      <td>0</td>\n",
       "      <td>ITL</td>\n",
       "      <td>C00</td>\n",
       "      <td>0.000344</td>\n",
       "      <td>-0.282623</td>\n",
       "      <td>0.908204</td>\n",
       "    </tr>\n",
       "    <tr>\n",
       "      <th>1</th>\n",
       "      <td>R01_S00</td>\n",
       "      <td>0</td>\n",
       "      <td>ITL</td>\n",
       "      <td>C01</td>\n",
       "      <td>0.000340</td>\n",
       "      <td>-0.077274</td>\n",
       "      <td>0.834165</td>\n",
       "    </tr>\n",
       "    <tr>\n",
       "      <th>2</th>\n",
       "      <td>R01_S00</td>\n",
       "      <td>0</td>\n",
       "      <td>ITL</td>\n",
       "      <td>C02</td>\n",
       "      <td>0.000337</td>\n",
       "      <td>-0.083834</td>\n",
       "      <td>0.802959</td>\n",
       "    </tr>\n",
       "    <tr>\n",
       "      <th>3</th>\n",
       "      <td>R01_S00</td>\n",
       "      <td>0</td>\n",
       "      <td>ITL</td>\n",
       "      <td>C03</td>\n",
       "      <td>0.000301</td>\n",
       "      <td>0.125313</td>\n",
       "      <td>0.833026</td>\n",
       "    </tr>\n",
       "    <tr>\n",
       "      <th>4</th>\n",
       "      <td>R01_S00</td>\n",
       "      <td>0</td>\n",
       "      <td>ITL</td>\n",
       "      <td>C04</td>\n",
       "      <td>0.000267</td>\n",
       "      <td>0.090928</td>\n",
       "      <td>0.776482</td>\n",
       "    </tr>\n",
       "  </tbody>\n",
       "</table>\n",
       "</div>"
      ],
      "text/plain": [
       "  Detector_ID Detector_Num Vendor Amplifier     Slope    Offset  \\\n",
       "0     R01_S00            0    ITL       C00  0.000344 -0.282623   \n",
       "1     R01_S00            0    ITL       C01  0.000340 -0.077274   \n",
       "2     R01_S00            0    ITL       C02  0.000337 -0.083834   \n",
       "3     R01_S00            0    ITL       C03  0.000301  0.125313   \n",
       "4     R01_S00            0    ITL       C04  0.000267  0.090928   \n",
       "\n",
       "   Correlation_Coef  \n",
       "0          0.908204  \n",
       "1          0.834165  \n",
       "2          0.802959  \n",
       "3          0.833026  \n",
       "4          0.776482  "
      ]
     },
     "execution_count": 28,
     "metadata": {},
     "output_type": "execute_result"
    }
   ],
   "source": [
    "df_slope = create_df_mbr(np.arange(189), [all_rafts_m, all_rafts_b, all_rafts_r])\n",
    "df_slope.head()"
   ]
  },
  {
   "cell_type": "code",
   "execution_count": 29,
   "id": "2c15c468-d9d2-4dff-bb28-2d789a20701f",
   "metadata": {},
   "outputs": [
    {
     "data": {
      "text/plain": [
       "Detector_ID          object\n",
       "Detector_Num         object\n",
       "Vendor               object\n",
       "Amplifier            object\n",
       "Slope               float64\n",
       "Offset              float64\n",
       "Correlation_Coef    float64\n",
       "dtype: object"
      ]
     },
     "execution_count": 29,
     "metadata": {},
     "output_type": "execute_result"
    }
   ],
   "source": [
    "df_slope.dtypes"
   ]
  },
  {
   "cell_type": "code",
   "execution_count": 30,
   "id": "3e9239ea-d6f2-45fa-a63e-0ee116d6d608",
   "metadata": {},
   "outputs": [
    {
     "data": {
      "text/html": [
       "<div>\n",
       "<style scoped>\n",
       "    .dataframe tbody tr th:only-of-type {\n",
       "        vertical-align: middle;\n",
       "    }\n",
       "\n",
       "    .dataframe tbody tr th {\n",
       "        vertical-align: top;\n",
       "    }\n",
       "\n",
       "    .dataframe thead th {\n",
       "        text-align: right;\n",
       "    }\n",
       "</style>\n",
       "<table border=\"1\" class=\"dataframe\">\n",
       "  <thead>\n",
       "    <tr style=\"text-align: right;\">\n",
       "      <th></th>\n",
       "      <th>Detector_ID</th>\n",
       "      <th>Detector_Num</th>\n",
       "      <th>Vendor</th>\n",
       "      <th>Amplifier</th>\n",
       "      <th>Slope</th>\n",
       "      <th>Offset</th>\n",
       "      <th>Correlation_Coef</th>\n",
       "    </tr>\n",
       "  </thead>\n",
       "  <tbody>\n",
       "    <tr>\n",
       "      <th>1167</th>\n",
       "      <td>R20_S00</td>\n",
       "      <td>72</td>\n",
       "      <td>ITL</td>\n",
       "      <td>C17</td>\n",
       "      <td>NaN</td>\n",
       "      <td>NaN</td>\n",
       "      <td>NaN</td>\n",
       "    </tr>\n",
       "  </tbody>\n",
       "</table>\n",
       "</div>"
      ],
      "text/plain": [
       "     Detector_ID Detector_Num Vendor Amplifier  Slope  Offset  \\\n",
       "1167     R20_S00           72    ITL       C17    NaN     NaN   \n",
       "\n",
       "      Correlation_Coef  \n",
       "1167               NaN  "
      ]
     },
     "execution_count": 30,
     "metadata": {},
     "output_type": "execute_result"
    }
   ],
   "source": [
    "df_slope[(df_slope.Detector_Num==72) & (df_slope.Amplifier == 'C17')]"
   ]
  },
  {
   "cell_type": "markdown",
   "id": "a619ce42-78e6-42d4-a7f5-acb194387280",
   "metadata": {},
   "source": [
    "## Histograms for the rate of change of the relative percentage error for gain (left) and correlation coefficient (right)"
   ]
  },
  {
   "cell_type": "code",
   "execution_count": 31,
   "id": "090bdcf5-292f-4b24-82f6-771097faa8d3",
   "metadata": {},
   "outputs": [
    {
     "data": {
      "text/html": [
       "<div>\n",
       "<style scoped>\n",
       "    .dataframe tbody tr th:only-of-type {\n",
       "        vertical-align: middle;\n",
       "    }\n",
       "\n",
       "    .dataframe tbody tr th {\n",
       "        vertical-align: top;\n",
       "    }\n",
       "\n",
       "    .dataframe thead th {\n",
       "        text-align: right;\n",
       "    }\n",
       "</style>\n",
       "<table border=\"1\" class=\"dataframe\">\n",
       "  <thead>\n",
       "    <tr style=\"text-align: right;\">\n",
       "      <th></th>\n",
       "      <th>Slope</th>\n",
       "      <th>Correlation_Coef</th>\n",
       "      <th>Offset</th>\n",
       "    </tr>\n",
       "  </thead>\n",
       "  <tbody>\n",
       "    <tr>\n",
       "      <th>0</th>\n",
       "      <td>0.000462</td>\n",
       "      <td>0.917508</td>\n",
       "      <td>-0.579538</td>\n",
       "    </tr>\n",
       "    <tr>\n",
       "      <th>1</th>\n",
       "      <td>0.000462</td>\n",
       "      <td>0.920019</td>\n",
       "      <td>-0.588470</td>\n",
       "    </tr>\n",
       "    <tr>\n",
       "      <th>2</th>\n",
       "      <td>0.000037</td>\n",
       "      <td>0.025186</td>\n",
       "      <td>0.428808</td>\n",
       "    </tr>\n",
       "  </tbody>\n",
       "</table>\n",
       "</div>"
      ],
      "text/plain": [
       "      Slope  Correlation_Coef    Offset\n",
       "0  0.000462          0.917508 -0.579538\n",
       "1  0.000462          0.920019 -0.588470\n",
       "2  0.000037          0.025186  0.428808"
      ]
     },
     "execution_count": 31,
     "metadata": {},
     "output_type": "execute_result"
    }
   ],
   "source": [
    "##Dictionaries with \"df_slope\" clipped (g_clip) and its statistics (g_stat) by vendor\n",
    "nsigma = 3\n",
    "niter = 3\n",
    "g_clip, g_stat = grouping_clipping_stats(df_slope, [\"Slope\", \"Correlation_Coef\", \"Offset\"], nsigma, niter)\n",
    "\n",
    "g_clip['E2V'].head()\n",
    "g_stat['E2V']"
   ]
  },
  {
   "cell_type": "code",
   "execution_count": 49,
   "id": "8e35ea12-c732-472a-a01f-f59a76a34a4f",
   "metadata": {},
   "outputs": [
    {
     "data": {
      "image/png": "[encoded data removed]",
      "text/plain": [
       "<Figure size 936x288 with 2 Axes>"
      ]
     },
     "metadata": {
      "needs_background": "light"
     },
     "output_type": "display_data"
    }
   ],
   "source": [
    "colors_vendor = ['#D81B60', '#004D40']#'#FFC107']\n",
    "\n",
    "fig, axs = plt.subplots(1,2,figsize=(13,4))\n",
    "fig.suptitle(\"Behavior low flux regime (5000 and 10000 ADUs)\", fontsize = 18)\n",
    "histograms_by_vendor(g_clip['E2V'], g_clip['ITL'], 'Slope', g_stat['E2V'], g_stat['ITL'], ['E2V', 'ITL'], 'Slope [%/ADU]', colors_vendor, '.5f', ax=axs[0]);\n",
    "histograms_by_vendor(g_clip['E2V'], g_clip['ITL'], 'Correlation_Coef', g_stat['E2V'], g_stat['ITL'], ['E2V', 'ITL'], 'Pearson correlation coefficient', colors_vendor, '.2f', ax=axs[1]);\n",
    "xtick_loc = [0.00015, 0.00025, 0.00035, 0.00045, 0.00055]\n",
    "axs[0].set_xticks(xtick_loc);\n",
    "\n",
    "fig.savefig('./FocalPlane_plots/Histogram_slope_corr_new.png', bbox_inches='tight')"
   ]
  },
  {
   "cell_type": "code",
   "execution_count": 55,
   "id": "3a83223c-d1ac-48d5-9da9-36989709e4ef",
   "metadata": {},
   "outputs": [
    {
     "data": {
      "image/png": "[encoded data removed]",
      "text/plain": [
       "<Figure size 432x288 with 1 Axes>"
      ]
     },
     "metadata": {
      "needs_background": "light"
     },
     "output_type": "display_data"
    }
   ],
   "source": [
    "colors_vendor1 = ['#D81B60', '#004D40', 'black']\n",
    "alpha=0.3\n",
    "fig, ax = plt.subplots(figsize=(6,4))\n",
    "plt.rcParams['legend.title_fontsize'] = 'x-large'\n",
    "sns.histplot(data= g_clip['E2V'], x= 'Offset', element=\"step\",  discrete=False, ax=ax, log_scale=[False, True], color = colors_vendor[0], label='E2V', alpha=alpha);\n",
    "sns.histplot(data= g_clip['ITL'], x= 'Offset', element=\"step\", discrete=False, ax=ax, log_scale=[False, True], color = colors_vendor[1], label='ITL', alpha=alpha);\n",
    "sns.histplot(data= g_clip['All'], x= 'Offset', element=\"step\", fill=False, discrete=False, ax=ax, log_scale=[False, True], color = 'black', label='All');\n",
    "\n",
    "\n",
    "\n",
    "for vendor, color in zip(['E2V', 'ITL', 'All'], colors_vendor1):\n",
    "    ax.axvline(g_stat[vendor]['Offset'][0], color = color)\n",
    "ax.tick_params(labelsize=14)\n",
    "ax.set_xlabel('Offset', fontsize = 18)\n",
    "ax.set_ylabel('Count', fontsize = 18)\n",
    "\n",
    "ax.legend(title='Vendor',loc='center left', bbox_to_anchor = (1.1,0.5), labels=[f\"E2V: Mean = {g_stat['E2V']['Offset'][0]:.1f}, σ = {g_stat['E2V']['Offset'][2]:.1f}\",f\"ITL: Mean = {g_stat['ITL']['Offset'][0]:.1f}, σ = {g_stat['ITL']['Offset'][2]:.1f}\", f\"All: Mean = {g_stat['All']['Offset'][0]:.1f}, σ = {g_stat['All']['Offset'][2]:.1f}\"], fontsize = 14);\n",
    "plt.savefig('./FocalPlane_plots/Histogram_offset_new.png', bbox_inches='tight')"
   ]
  },
  {
   "cell_type": "markdown",
   "id": "db78320e-cbd9-4c46-8d8c-4e43b36b1642",
   "metadata": {},
   "source": [
    "### Outliers\n",
    "Identify problematic amplifiers"
   ]
  },
  {
   "cell_type": "code",
   "execution_count": 57,
   "id": "ba312327-56a1-418f-bab0-e41033aac675",
   "metadata": {},
   "outputs": [
    {
     "data": {
      "image/png": "[encoded data removed]",
      "text/plain": [
       "<Figure size 432x288 with 1 Axes>"
      ]
     },
     "metadata": {
      "needs_background": "light"
     },
     "output_type": "display_data"
    }
   ],
   "source": [
    "sns.histplot(data= df_slope, x= 'Offset', element=\"step\", fill=False, discrete=False, log_scale=[False, True], color = 'black', label='All');"
   ]
  },
  {
   "cell_type": "code",
   "execution_count": 58,
   "id": "4f2a185c-9dab-4f8d-b515-d7c412987d9a",
   "metadata": {},
   "outputs": [
    {
     "data": {
      "text/html": [
       "<div>\n",
       "<style scoped>\n",
       "    .dataframe tbody tr th:only-of-type {\n",
       "        vertical-align: middle;\n",
       "    }\n",
       "\n",
       "    .dataframe tbody tr th {\n",
       "        vertical-align: top;\n",
       "    }\n",
       "\n",
       "    .dataframe thead th {\n",
       "        text-align: right;\n",
       "    }\n",
       "</style>\n",
       "<table border=\"1\" class=\"dataframe\">\n",
       "  <thead>\n",
       "    <tr style=\"text-align: right;\">\n",
       "      <th></th>\n",
       "      <th>Gain</th>\n",
       "      <th>Read_Noise</th>\n",
       "      <th>A00</th>\n",
       "      <th>TurnOff</th>\n",
       "    </tr>\n",
       "  </thead>\n",
       "  <tbody>\n",
       "    <tr>\n",
       "      <th>576</th>\n",
       "      <td>1.533049</td>\n",
       "      <td>5.441754</td>\n",
       "      <td>-0.000003</td>\n",
       "      <td>85487.426372</td>\n",
       "    </tr>\n",
       "    <tr>\n",
       "      <th>577</th>\n",
       "      <td>1.545493</td>\n",
       "      <td>5.603886</td>\n",
       "      <td>-0.000003</td>\n",
       "      <td>82722.239940</td>\n",
       "    </tr>\n",
       "    <tr>\n",
       "      <th>578</th>\n",
       "      <td>1.541396</td>\n",
       "      <td>5.575896</td>\n",
       "      <td>-0.000003</td>\n",
       "      <td>83329.817354</td>\n",
       "    </tr>\n",
       "    <tr>\n",
       "      <th>579</th>\n",
       "      <td>1.535443</td>\n",
       "      <td>5.723117</td>\n",
       "      <td>-0.000003</td>\n",
       "      <td>83919.390040</td>\n",
       "    </tr>\n",
       "    <tr>\n",
       "      <th>580</th>\n",
       "      <td>1.546364</td>\n",
       "      <td>5.784581</td>\n",
       "      <td>-0.000003</td>\n",
       "      <td>84019.562310</td>\n",
       "    </tr>\n",
       "  </tbody>\n",
       "</table>\n",
       "</div>"
      ],
      "text/plain": [
       "         Gain  Read_Noise       A00       TurnOff\n",
       "576  1.533049    5.441754 -0.000003  85487.426372\n",
       "577  1.545493    5.603886 -0.000003  82722.239940\n",
       "578  1.541396    5.575896 -0.000003  83329.817354\n",
       "579  1.535443    5.723117 -0.000003  83919.390040\n",
       "580  1.546364    5.784581 -0.000003  84019.562310"
      ]
     },
     "execution_count": 58,
     "metadata": {},
     "output_type": "execute_result"
    }
   ],
   "source": [
    "g_clip_PTC, g_stat_PTC = grouping_clipping_stats(PTC_data, [\"Gain\", \"Read_Noise\", \"A00\", \"TurnOff\"], 3, 3)\n",
    "\n",
    "g_clip_PTC['E2V'].head()"
   ]
  },
  {
   "cell_type": "code",
   "execution_count": 71,
   "id": "d02c50d5-92af-4899-a7e8-25579ccc7564",
   "metadata": {},
   "outputs": [
    {
     "data": {
      "image/png": "[encoded data removed]",
      "text/plain": [
       "<Figure size 432x288 with 1 Axes>"
      ]
     },
     "metadata": {
      "needs_background": "light"
     },
     "output_type": "display_data"
    }
   ],
   "source": [
    "fig, ax = plt.subplots()\n",
    "leg = histograms_by_vendor(g_clip_PTC['E2V'], g_clip_PTC['ITL'], 'Gain', g_stat_PTC['E2V'], g_stat_PTC['ITL'], ['E2V', 'ITL'], 'PTC gain [$e^-/ADU$]', colors_vendor, '.2f', ax=ax)\n",
    "as1 = sns.histplot(data= g_clip_PTC['All'], x= 'Gain', element=\"step\", fill=False, discrete=False, ax=ax, log_scale=[False, True], color = 'black', label='All');\n",
    "ax.add_artist(leg)\n",
    "h, l = ax.get_legend_handles_labels()\n",
    "ax.legend(labels = [l[2]], handles = [h[2]], fontsize=14);"
   ]
  },
  {
   "cell_type": "code",
   "execution_count": 62,
   "id": "920a8fc9-970d-48b1-a6d6-c5342d157ee4",
   "metadata": {},
   "outputs": [
    {
     "data": {
      "image/png": "[encoded data removed]",
      "text/plain": [
       "<Figure size 864x864 with 4 Axes>"
      ]
     },
     "metadata": {
      "needs_background": "light"
     },
     "output_type": "display_data"
    }
   ],
   "source": [
    "E2V_PTC_clip, ITL_PTC_clip = g_clip_PTC['E2V'], g_clip_PTC['ITL']\n",
    "E2V_PTC_stat, ITL_PTC_stat = g_stat_PTC['E2V'], g_stat_PTC['ITL']\n",
    "\n",
    "fig = plt.figure(figsize=(12,12))\n",
    "gs = GridSpec(4,4)\n",
    "fig.suptitle('Histograms of PTC parameters', fontsize=18)\n",
    "\n",
    "############################################################################################\n",
    "axes = plt.subplot(gs[0:2,:2])\n",
    "histograms_by_vendor(E2V_PTC_clip, ITL_PTC_clip, 'Gain', E2V_PTC_stat, ITL_PTC_stat, ['E2V', 'ITL'], 'PTC gain [$e^-/ADU$]', colors_vendor, '.2f', ax=axes)\n",
    "\n",
    "\n",
    "############################################################################################\n",
    "ax1 = plt.subplot(gs[0:2,2:4])\n",
    "histograms_by_vendor(E2V_PTC_clip, ITL_PTC_clip, 'Read_Noise', E2V_PTC_stat, ITL_PTC_stat, ['E2V', 'ITL'], 'PTC read-out noise [$e^-$]', colors_vendor, '.1f', ax=ax1)\n",
    "\n",
    "\n",
    "############################################################################################\n",
    "ax2 = plt.subplot(gs[2:4,:2])\n",
    "histograms_by_vendor(E2V_PTC_clip, ITL_PTC_clip, 'A00', E2V_PTC_stat, ITL_PTC_stat, ['E2V', 'ITL'], r'PTC $a_{00}$', colors_vendor, '.1e', ax=ax2)\n",
    "\n",
    "############################################################################################\n",
    "ax3 = plt.subplot(gs[2:4,2:4])\n",
    "histograms_by_vendor(E2V_PTC_clip, ITL_PTC_clip, 'TurnOff', E2V_PTC_stat, ITL_PTC_stat, ['E2V', 'ITL'], 'PTC turnoff [ADU]', colors_vendor, '.1f', ax=ax3)\n",
    "\n",
    "\n",
    "############################################################################################\n",
    "\n",
    "\n",
    "fig.tight_layout()\n",
    "fig.savefig('./FocalPlane_plots/Histograms_PTC.png')"
   ]
  },
  {
   "cell_type": "code",
   "execution_count": 79,
   "id": "53894874-e1b3-43b3-9004-b58ae4381a15",
   "metadata": {},
   "outputs": [
    {
     "data": {
      "text/plain": [
       "['#004D40', '#D81B60']"
      ]
     },
     "execution_count": 79,
     "metadata": {},
     "output_type": "execute_result"
    }
   ],
   "source": [
    "colors_vendor_m = colors_vendor[::-1]\n",
    "colors_vendor_m"
   ]
  },
  {
   "cell_type": "code",
   "execution_count": 83,
   "id": "14dbd614-27d6-4435-a062-2afa9b32f5f0",
   "metadata": {},
   "outputs": [
    {
     "data": {
      "image/png": "[encoded data removed]",
      "text/plain": [
       "<Figure size 864x864 with 8 Axes>"
      ]
     },
     "metadata": {
      "needs_background": "light"
     },
     "output_type": "display_data"
    }
   ],
   "source": [
    "E2V_PTC_clip, ITL_PTC_clip = g_clip_PTC['E2V'], g_clip_PTC['ITL']\n",
    "E2V_PTC_stat, ITL_PTC_stat = g_stat_PTC['E2V'], g_stat_PTC['ITL']\n",
    "\n",
    "fig = plt.figure(figsize=(12,12))\n",
    "gs = GridSpec(5,4)\n",
    "fig.suptitle('Histograms of PTC parameters', fontsize=14)\n",
    "\n",
    "############################################################################################\n",
    "axes = plt.subplot(gs[0:2,:2])\n",
    "histograms_by_vendor(E2V_PTC_clip, ITL_PTC_clip, 'Gain', E2V_PTC_stat, ITL_PTC_stat, ['E2V', 'ITL'], 'PTC gain [$e^-/ADU$]', colors_vendor, '.2f', ax=axes)\n",
    "\n",
    "\n",
    "############################################################################################\n",
    "ax1 = plt.subplot(gs[0:2,2:4])\n",
    "histograms_by_vendor(E2V_PTC_clip, ITL_PTC_clip, 'Read_Noise', E2V_PTC_stat, ITL_PTC_stat, ['E2V', 'ITL'], 'PTC read-out noise [$e^-$]', colors_vendor, '.1f', ax=ax1)\n",
    "\n",
    "\n",
    "############################################################################################\n",
    "ax2 = plt.subplot(gs[2:4,:2])\n",
    "histograms_by_vendor(E2V_PTC_clip, ITL_PTC_clip, 'A00', E2V_PTC_stat, ITL_PTC_stat, ['E2V', 'ITL'], 'PTC a00', colors_vendor, '.1e', ax=ax2)\n",
    "\n",
    "############################################################################################\n",
    "ax3 = plt.subplot(gs[2:4,2:4])\n",
    "histograms_by_vendor(E2V_PTC_clip, ITL_PTC_clip, 'TurnOff', E2V_PTC_stat, ITL_PTC_stat, ['E2V', 'ITL'], 'PTC turnoff [ADU]', colors_vendor, '.1f', ax=ax3)\n",
    "\n",
    "\n",
    "############################################################################################\n",
    "plt.subplot(gs[4,0])\n",
    "ax4 = sns.histplot(data= PTC_data, x= 'Gain', hue='Vendor', element=\"step\", discrete=False, log_scale=[False, True], palette = colors_vendor_m);\n",
    "ax4.set_xlabel('PTC gain [$e^-/ADU$]')\n",
    "\n",
    "plt.subplot(gs[4,1])\n",
    "ax5 = sns.histplot(data= PTC_data, x= 'Read_Noise', hue='Vendor', element=\"step\", discrete=False,  log_scale=[False, True], palette = colors_vendor_m);\n",
    "ax5.set_xlabel('PTC read-out noise [$e^-$]')\n",
    "\n",
    "plt.subplot(gs[4,2])\n",
    "ax6 = sns.histplot(data= PTC_data, x= 'A00', hue='Vendor', element=\"step\" ,discrete=False,  log_scale=[False, True], palette = colors_vendor_m);\n",
    "sns.move_legend(ax6, loc='upper left')\n",
    "ax6.set_xlabel('PTC a_{00}')\n",
    "\n",
    "plt.subplot(gs[4,3])\n",
    "ax7 = sns.histplot(data= PTC_data, x= 'TurnOff', hue='Vendor', element=\"step\", discrete=False,  log_scale=[False, True], palette = colors_vendor_m);\n",
    "sns.move_legend(ax7, loc='upper left')\n",
    "ax7.set_xlabel('PTC turnoff [ADU]')\n",
    "\n",
    "fig.tight_layout()\n",
    "#fig.savefig('./FocalPlane_plots/Histograms_PTC.png', dpi=500)"
   ]
  },
  {
   "cell_type": "markdown",
   "id": "ec0d2d39-0170-487f-a2b2-56936c66b7f1",
   "metadata": {},
   "source": [
    "# Taking into account the linearizers for both CCDs 55 and 74\n",
    "\n",
    "The linearizers were generated by Jerónimo Calderón in his project supervised by Professor Craig Lage. This linearizer is spline type and has 12 knots. "
   ]
  },
  {
   "cell_type": "code",
   "execution_count": 63,
   "id": "781088c9-9ec8-4937-bfa2-e26993bd15d2",
   "metadata": {},
   "outputs": [],
   "source": [
    "genCollection_linearizer = \"u/jcalderong/reca/ptc_13144_crosstalktests_L\"  #Linearizer\n",
    "butler_linearizer = dB.Butler(\"/repo/main/\", collections=genCollection_linearizer)\n",
    "\n",
    "CCD = 139\n",
    "pctDataset= butler.get(\"ptc\", instrument=\"LSSTCam\", detector=CCD)\n",
    "\n",
    "# Exposure pairs list\n",
    "exposure_pairs = np.array(sorted(pctDataset.inputExpIdPairs['C00']))\n",
    "exposure_first = exposure_pairs[:,0][:,0]\n",
    "\n",
    "cp_linearizer = butler_linearizer.get(\"cpCovariances\", instrument=\"LSSTCam\", detector=CCD, exposure= exposure_first[0])"
   ]
  },
  {
   "cell_type": "markdown",
   "id": "0698453b-bd59-43b3-b03c-5342dccce6e1",
   "metadata": {},
   "source": [
    "## Creating dictionaries"
   ]
  },
  {
   "cell_type": "code",
   "execution_count": 64,
   "id": "4330039b-f563-441f-90ec-dcbdb7f8ec8f",
   "metadata": {},
   "outputs": [],
   "source": [
    "CCDs = [32, 139]\n",
    "\n",
    "CCD55_74_PTC= {det_id_to_name[det]: copy.deepcopy(ptc) for det in CCDs}\n",
    "CCD55_74_cpCov = {det_id_to_name[det]: copy.deepcopy(cpCov) for det in CCDs}"
   ]
  },
  {
   "cell_type": "code",
   "execution_count": 65,
   "id": "33de3f17-cacc-4813-9d23-b33bc733c6ea",
   "metadata": {},
   "outputs": [],
   "source": [
    "create_dict_PTC(CCDs, CCD55_74_PTC, butler_linearizer)"
   ]
  },
  {
   "cell_type": "code",
   "execution_count": 66,
   "id": "3910c895-af41-4650-b84f-dcc985706642",
   "metadata": {},
   "outputs": [],
   "source": [
    "with open('./Data_files/Linearizer_Spline12_PTC_CCD_32_139_20220814.yaml', 'w') as outfile:\n",
    "    yaml.dump(CCD55_74_PTC, outfile)"
   ]
  },
  {
   "cell_type": "code",
   "execution_count": 67,
   "id": "8cd04337-c42e-492b-8fc7-f2337ebf7efb",
   "metadata": {},
   "outputs": [],
   "source": [
    "create_dict_cpCovariances(CCDs, CCD55_74_cpCov, butler_linearizer)"
   ]
  },
  {
   "cell_type": "code",
   "execution_count": 19,
   "id": "9415ba80-4a4a-4158-9aa2-cf9fade89f9a",
   "metadata": {},
   "outputs": [],
   "source": [
    "with open('./Data_files/Linearizer_Spline12_cpCov_CCD_32_139_20220814.yaml', 'w') as outfile:\n",
    "    yaml.dump(CCD55_74_cpCov, outfile)"
   ]
  },
  {
   "cell_type": "markdown",
   "id": "abd71ddb-31b0-4b54-9748-c3a54c18a329",
   "metadata": {},
   "source": [
    "## Creating dataframes"
   ]
  },
  {
   "cell_type": "code",
   "execution_count": 68,
   "id": "711414da-a17e-477e-b9ce-e9ef2931d641",
   "metadata": {},
   "outputs": [
    {
     "data": {
      "text/html": [
       "<div>\n",
       "<style scoped>\n",
       "    .dataframe tbody tr th:only-of-type {\n",
       "        vertical-align: middle;\n",
       "    }\n",
       "\n",
       "    .dataframe tbody tr th {\n",
       "        vertical-align: top;\n",
       "    }\n",
       "\n",
       "    .dataframe thead th {\n",
       "        text-align: right;\n",
       "    }\n",
       "</style>\n",
       "<table border=\"1\" class=\"dataframe\">\n",
       "  <thead>\n",
       "    <tr style=\"text-align: right;\">\n",
       "      <th></th>\n",
       "      <th>Detector_ID</th>\n",
       "      <th>Detector_Num</th>\n",
       "      <th>Vendor</th>\n",
       "      <th>Amplifier</th>\n",
       "      <th>Gain</th>\n",
       "      <th>Read_Noise</th>\n",
       "      <th>A00</th>\n",
       "      <th>TurnOff</th>\n",
       "    </tr>\n",
       "  </thead>\n",
       "  <tbody>\n",
       "    <tr>\n",
       "      <th>0</th>\n",
       "      <td>R10_S12</td>\n",
       "      <td>32</td>\n",
       "      <td>ITL</td>\n",
       "      <td>C00</td>\n",
       "      <td>1.649012</td>\n",
       "      <td>8.793140</td>\n",
       "      <td>-0.000002</td>\n",
       "      <td>89595.922092</td>\n",
       "    </tr>\n",
       "    <tr>\n",
       "      <th>1</th>\n",
       "      <td>R10_S12</td>\n",
       "      <td>32</td>\n",
       "      <td>ITL</td>\n",
       "      <td>C01</td>\n",
       "      <td>1.638996</td>\n",
       "      <td>9.336931</td>\n",
       "      <td>-0.000002</td>\n",
       "      <td>88616.150384</td>\n",
       "    </tr>\n",
       "    <tr>\n",
       "      <th>2</th>\n",
       "      <td>R10_S12</td>\n",
       "      <td>32</td>\n",
       "      <td>ITL</td>\n",
       "      <td>C02</td>\n",
       "      <td>1.641314</td>\n",
       "      <td>9.592488</td>\n",
       "      <td>-0.000002</td>\n",
       "      <td>88883.913479</td>\n",
       "    </tr>\n",
       "    <tr>\n",
       "      <th>3</th>\n",
       "      <td>R10_S12</td>\n",
       "      <td>32</td>\n",
       "      <td>ITL</td>\n",
       "      <td>C03</td>\n",
       "      <td>1.636528</td>\n",
       "      <td>9.835264</td>\n",
       "      <td>-0.000002</td>\n",
       "      <td>89672.749481</td>\n",
       "    </tr>\n",
       "    <tr>\n",
       "      <th>4</th>\n",
       "      <td>R10_S12</td>\n",
       "      <td>32</td>\n",
       "      <td>ITL</td>\n",
       "      <td>C04</td>\n",
       "      <td>1.617491</td>\n",
       "      <td>9.268076</td>\n",
       "      <td>-0.000002</td>\n",
       "      <td>90947.330812</td>\n",
       "    </tr>\n",
       "  </tbody>\n",
       "</table>\n",
       "</div>"
      ],
      "text/plain": [
       "  Detector_ID Detector_Num Vendor Amplifier      Gain  Read_Noise       A00  \\\n",
       "0     R10_S12           32    ITL       C00  1.649012    8.793140 -0.000002   \n",
       "1     R10_S12           32    ITL       C01  1.638996    9.336931 -0.000002   \n",
       "2     R10_S12           32    ITL       C02  1.641314    9.592488 -0.000002   \n",
       "3     R10_S12           32    ITL       C03  1.636528    9.835264 -0.000002   \n",
       "4     R10_S12           32    ITL       C04  1.617491    9.268076 -0.000002   \n",
       "\n",
       "        TurnOff  \n",
       "0  89595.922092  \n",
       "1  88616.150384  \n",
       "2  88883.913479  \n",
       "3  89672.749481  \n",
       "4  90947.330812  "
      ]
     },
     "execution_count": 68,
     "metadata": {},
     "output_type": "execute_result"
    }
   ],
   "source": [
    "df_PTC_Spline12 = create_df_PTC(CCD55_74_PTC, CCDs)\n",
    "df_PTC_Spline12.head()"
   ]
  },
  {
   "cell_type": "code",
   "execution_count": 69,
   "id": "53ff08c4-427f-4d42-b57f-2a4a07ac9ad2",
   "metadata": {},
   "outputs": [
    {
     "data": {
      "text/html": [
       "<div>\n",
       "<style scoped>\n",
       "    .dataframe tbody tr th:only-of-type {\n",
       "        vertical-align: middle;\n",
       "    }\n",
       "\n",
       "    .dataframe tbody tr th {\n",
       "        vertical-align: top;\n",
       "    }\n",
       "\n",
       "    .dataframe thead th {\n",
       "        text-align: right;\n",
       "    }\n",
       "</style>\n",
       "<table border=\"1\" class=\"dataframe\">\n",
       "  <thead>\n",
       "    <tr style=\"text-align: right;\">\n",
       "      <th></th>\n",
       "      <th>Detector_ID</th>\n",
       "      <th>Detector_Num</th>\n",
       "      <th>Vendor</th>\n",
       "      <th>Amplifier</th>\n",
       "      <th>Flux</th>\n",
       "      <th>Gain</th>\n",
       "      <th>Read_Noise</th>\n",
       "    </tr>\n",
       "  </thead>\n",
       "  <tbody>\n",
       "    <tr>\n",
       "      <th>0</th>\n",
       "      <td>R10_S12</td>\n",
       "      <td>32</td>\n",
       "      <td>ITL</td>\n",
       "      <td>C00</td>\n",
       "      <td>50.302302</td>\n",
       "      <td>1.418944</td>\n",
       "      <td>4.932315</td>\n",
       "    </tr>\n",
       "    <tr>\n",
       "      <th>1</th>\n",
       "      <td>R10_S12</td>\n",
       "      <td>32</td>\n",
       "      <td>ITL</td>\n",
       "      <td>C00</td>\n",
       "      <td>273.167015</td>\n",
       "      <td>1.616776</td>\n",
       "      <td>4.932315</td>\n",
       "    </tr>\n",
       "    <tr>\n",
       "      <th>2</th>\n",
       "      <td>R10_S12</td>\n",
       "      <td>32</td>\n",
       "      <td>ITL</td>\n",
       "      <td>C00</td>\n",
       "      <td>57.848287</td>\n",
       "      <td>1.471736</td>\n",
       "      <td>4.932315</td>\n",
       "    </tr>\n",
       "    <tr>\n",
       "      <th>3</th>\n",
       "      <td>R10_S12</td>\n",
       "      <td>32</td>\n",
       "      <td>ITL</td>\n",
       "      <td>C00</td>\n",
       "      <td>464.164963</td>\n",
       "      <td>1.616865</td>\n",
       "      <td>4.932315</td>\n",
       "    </tr>\n",
       "    <tr>\n",
       "      <th>4</th>\n",
       "      <td>R10_S12</td>\n",
       "      <td>32</td>\n",
       "      <td>ITL</td>\n",
       "      <td>C00</td>\n",
       "      <td>21.309291</td>\n",
       "      <td>1.003646</td>\n",
       "      <td>4.932315</td>\n",
       "    </tr>\n",
       "  </tbody>\n",
       "</table>\n",
       "</div>"
      ],
      "text/plain": [
       "  Detector_ID Detector_Num Vendor Amplifier        Flux      Gain  Read_Noise\n",
       "0     R10_S12           32    ITL       C00   50.302302  1.418944    4.932315\n",
       "1     R10_S12           32    ITL       C00  273.167015  1.616776    4.932315\n",
       "2     R10_S12           32    ITL       C00   57.848287  1.471736    4.932315\n",
       "3     R10_S12           32    ITL       C00  464.164963  1.616865    4.932315\n",
       "4     R10_S12           32    ITL       C00   21.309291  1.003646    4.932315"
      ]
     },
     "execution_count": 69,
     "metadata": {},
     "output_type": "execute_result"
    }
   ],
   "source": [
    "df_cpCov_Spline12 = create_df_cpCov(CCD55_74_cpCov, CCDs)\n",
    "df_cpCov_Spline12.head()"
   ]
  },
  {
   "cell_type": "code",
   "execution_count": 70,
   "id": "2d4a9c4e-5c9b-440e-8b9f-977e41206c1f",
   "metadata": {},
   "outputs": [],
   "source": [
    "all_rafts_m = {det_id_to_name[det]: copy.deepcopy(value) for det in CCDs}\n",
    "all_rafts_b = {det_id_to_name[det]: copy.deepcopy(value) for det in CCDs}\n",
    "all_rafts_r = {det_id_to_name[det]: copy.deepcopy(value) for det in CCDs}"
   ]
  },
  {
   "cell_type": "code",
   "execution_count": 53,
   "id": "14755fe9-6b38-4a28-8775-0d830312872b",
   "metadata": {},
   "outputs": [],
   "source": [
    "## Using df constructed from dictionary\n",
    "for k in CCDs:    \n",
    "    fig = plt.figure(figsize=(15,6))\n",
    "    plot_relative_error_gain(fig, df_PTC_Spline12, df_cpCov_Spline12, k, [all_rafts_m, all_rafts_b, all_rafts_r], where_save = 'FocalPlane_plots')"
   ]
  },
  {
   "cell_type": "markdown",
   "id": "96aa110e-a95f-4d64-b1d7-62be21d64137",
   "metadata": {},
   "source": [
    "# Outliers in cpCovariances around 20000 ADU"
   ]
  },
  {
   "cell_type": "code",
   "execution_count": 48,
   "id": "4dc4a9c9-13c5-4f9f-b6ef-6ec23f2df366",
   "metadata": {},
   "outputs": [
    {
     "name": "stdout",
     "output_type": "stream",
     "text": [
      "[157, 157, 157, 157, 157, 157, 157, 157, 157, 157, 157, 157, 157, 157, 157, 157]\n"
     ]
    },
    {
     "data": {
      "image/png": "[encoded data removed]",
      "text/plain": [
       "<Figure size 864x288 with 2 Axes>"
      ]
     },
     "metadata": {},
     "output_type": "display_data"
    }
   ],
   "source": [
    "def outliers_relative_error(fluxx, gainn, gain_ptcc, CCD):\n",
    "    \"\"\"\n",
    "    fluxx: flux from cpCovariances \n",
    "    gainn: gain from cpCovariances\n",
    "    gain_ptcc: gain from Ptc\n",
    "    CCD: detector number\n",
    "    -------------------------------\n",
    "    Return: indexes of outlier points\n",
    "    \"\"\"\n",
    "    outlier_index = []    \n",
    "    fig, axs = plt.subplots(1,2, figsize=(12,4))\n",
    "    fig.suptitle(f'Detector {CCD}: Outlier region in relative error ')\n",
    "    for k in range(len(gainn[1,:])):\n",
    "        relative = abs(gainn[:,k] - gain_ptcc[k])/gain_ptcc[k] * 100\n",
    "        \n",
    "\n",
    "        ########Outliers\n",
    "        flux_outlier_index = np.where((fluxx[:,k]>15000) & (fluxx[:,k]<25000))[0]\n",
    "        relative_outlier = relative[flux_outlier_index].min()\n",
    "        relative_outlier_index = np.where(relative == relative_outlier)[0]\n",
    "        outlier_index.append(relative_outlier_index[0])\n",
    "        ##########\n",
    "        axs[0].plot(fluxx[flux_outlier_index,k], relative[flux_outlier_index], '.', c='crimson', zorder=2)\n",
    "        axs[0].plot(fluxx[relative_outlier_index,k], relative[relative_outlier_index], 'o', c='yellow', zorder=1)\n",
    "        axs[1].plot(fluxx[relative_outlier_index,k], gainn[relative_outlier_index,k], 'o', c='yellow', zorder=1)\n",
    "        axs[1].plot(fluxx[flux_outlier_index,k], gainn[flux_outlier_index, k], '.', c='crimson', zorder=2)\n",
    "        \n",
    "        for j in range(2):\n",
    "            axs[j].set_xlabel('Flux [ADU]')\n",
    "        axs[1].set_ylabel(r'Gain [$\\frac{e^-}{ADU}$]')\n",
    "        axs[0].set_ylabel('Percentage error [%]')\n",
    "    return outlier_index\n",
    "\n",
    "cp_outliers = outliers_relative_error(cp_flux55, cp_gain55, gain55, select_detector)\n",
    "print(cp_outliers)"
   ]
  },
  {
   "cell_type": "markdown",
   "id": "1856072e-2cc9-4e74-95a7-ba7d724324da",
   "metadata": {},
   "source": [
    "From the above figure and resulting indexes, for this particular CCD, the same flat contains all the outliers in each amplifier."
   ]
  },
  {
   "cell_type": "code",
   "execution_count": 52,
   "id": "e3b86015-8fbf-4b8b-b2a5-9855b2688c3a",
   "metadata": {},
   "outputs": [
    {
     "data": {
      "text/plain": [
       "3021120700281"
      ]
     },
     "execution_count": 52,
     "metadata": {},
     "output_type": "execute_result"
    }
   ],
   "source": [
    "exposures55[157]"
   ]
  },
  {
   "cell_type": "code",
   "execution_count": null,
   "id": "05fbb7be-fca0-4d41-9e4d-66e998c1f0fa",
   "metadata": {},
   "outputs": [],
   "source": []
  }
 ],
 "metadata": {
  "kernelspec": {
   "display_name": "Python 3.9.12 ('base')",
   "language": "python",
   "name": "python3"
  },
  "language_info": {
   "codemirror_mode": {
    "name": "ipython",
    "version": 3
   },
   "file_extension": ".py",
   "mimetype": "text/x-python",
   "name": "python",
   "nbconvert_exporter": "python",
   "pygments_lexer": "ipython3",
   "version": "3.9.12"
  },
  "toc-autonumbering": true,
  "toc-showcode": false,
  "toc-showmarkdowntxt": false,
  "vscode": {
   "interpreter": {
    "hash": "7df67d260407717c502841c80ba5ad9a0d8406b0e9569af5439f4c6686ea6438"
   }
  }
 },
 "nbformat": 4,
 "nbformat_minor": 5
}
