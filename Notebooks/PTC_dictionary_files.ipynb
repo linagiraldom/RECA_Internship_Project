{
 "cells": [
  {
   "cell_type": "code",
   "execution_count": 1,
   "id": "5ad9c298-089e-437d-8e82-cdfc3c8170d1",
   "metadata": {},
   "outputs": [
    {
     "name": "stderr",
     "output_type": "stream",
     "text": [
      "\n",
      "WARNING: version mismatch between CFITSIO header (v4.000999999999999) and linked library (v4.01).\n",
      "\n",
      "\n",
      "WARNING: version mismatch between CFITSIO header (v4.000999999999999) and linked library (v4.01).\n",
      "\n",
      "\n",
      "WARNING: version mismatch between CFITSIO header (v4.000999999999999) and linked library (v4.01).\n",
      "\n"
     ]
    }
   ],
   "source": [
    "import lsst.daf.butler as dB\n",
    "import lsst.obs.lsst as oL\n",
    "import numpy as np\n",
    "import matplotlib.pyplot as plt\n",
    "import copy\n",
    "from multiprocessing import Pool\n",
    "from multiprocessing import cpu_count\n",
    "import yaml"
   ]
  },
  {
   "cell_type": "markdown",
   "id": "2a80ff29-5644-440a-9463-d1df31c703d0",
   "metadata": {},
   "source": [
    "# Loading Collection"
   ]
  },
  {
   "cell_type": "code",
   "execution_count": 2,
   "id": "bf9a084d-5e6b-4dc3-b9ae-62aa7c4d82c5",
   "metadata": {},
   "outputs": [],
   "source": [
    "#genCollection = \"u/lgiraldo/bps_ALLCCD_20220701\"\n",
    "genCollection = \"u/lgiraldo/bps_ALLCCD_v2_20220804\"\n",
    "butler = dB.Butler(\"/repo/main\", collections=genCollection)"
   ]
  },
  {
   "cell_type": "markdown",
   "id": "3acc826c-8d4f-438c-89f8-d7faed9cf958",
   "metadata": {},
   "source": [
    "# Amplifiers labeled as bad "
   ]
  },
  {
   "cell_type": "code",
   "execution_count": 3,
   "id": "d1f54e95-0d18-472f-89fc-c7bdce7f76de",
   "metadata": {
    "tags": []
   },
   "outputs": [
    {
     "name": "stdout",
     "output_type": "stream",
     "text": [
      "The detector 72 has bad amplifiers ['nan', 'C17']\n",
      "The detector 117 has bad amplifiers ['nan', 'C10']\n"
     ]
    }
   ],
   "source": [
    "for i in range(189):\n",
    "    ptc_data = butler.get(\"ptc\", instrument=\"LSSTCam\", detector=i)\n",
    "    bad_amps = ptc_data.badAmps\n",
    "    if len(bad_amps)>1:  ##Verify for nan value and another value at least\n",
    "        print(f\"The detector {i} has bad amplifiers {ptc_data.badAmps}\") "
   ]
  },
  {
   "cell_type": "markdown",
   "id": "06d86de1-5101-4b1a-94bf-088b581a55a2",
   "metadata": {},
   "source": [
    "# Dictionary structure"
   ]
  },
  {
   "cell_type": "code",
   "execution_count": 4,
   "id": "6870ef65-a850-4427-8a00-269952241e51",
   "metadata": {},
   "outputs": [],
   "source": [
    "ampNames = ['C00', 'C01', 'C02','C03','C04','C05','C06', 'C07', \n",
    "           'C10', 'C11', 'C12','C13','C14','C15','C16', 'C17']\n",
    "\n",
    "value = {ampName: '' for ampName in ampNames}\n",
    "ptc = {ampName: {\"gain\": '', \"rd_noise\": '', \"a00\": '', \"turnoff\": ''} for ampName in ampNames}\n",
    "meanvar = {ampName: {\"Mean\": '', \"Var\": ''} for ampName in ampNames}\n",
    "ptc;"
   ]
  },
  {
   "cell_type": "markdown",
   "id": "6b1728aa-ee58-42be-b06f-ed858ccbca34",
   "metadata": {},
   "source": [
    "## CCD identifiers"
   ]
  },
  {
   "cell_type": "code",
   "execution_count": 5,
   "id": "5d3a9bc1-a60e-4375-a008-dbfb1cabd857",
   "metadata": {},
   "outputs": [],
   "source": [
    "camera = butler.get(\"camera\", instrument=\"LSSTCam\")\n",
    "det_name_to_id = {}\n",
    "det_id_to_name = {}\n",
    "det_name_array = []\n",
    "\n",
    "for det in camera:\n",
    "    #print(det.getName(), det.getId())\n",
    "    detName, detId = det.getName(), det.getId()\n",
    "    if detId < 189:\n",
    "        det_name_to_id[detName] = detId\n",
    "        det_id_to_name[detId] = detName\n",
    "        det_name_array.append(detName)"
   ]
  },
  {
   "cell_type": "code",
   "execution_count": 6,
   "id": "235d76da-3862-45a5-911c-564fea301845",
   "metadata": {},
   "outputs": [],
   "source": [
    "all_rafts = {detName: copy.deepcopy(value) for detName in det_name_array}\n",
    "all_rafts_full = {detName: copy.deepcopy(ptc) for detName in det_name_array}\n",
    "all_rafts_full_meanvar = {detName: copy.deepcopy(meanvar) for detName in det_name_array}"
   ]
  },
  {
   "cell_type": "code",
   "execution_count": 7,
   "id": "e7be6a1b-2679-43db-8e3d-4726bf6122c2",
   "metadata": {},
   "outputs": [
    {
     "data": {
      "text/plain": [
       "{'C00': {'Mean': '', 'Var': ''},\n",
       " 'C01': {'Mean': '', 'Var': ''},\n",
       " 'C02': {'Mean': '', 'Var': ''},\n",
       " 'C03': {'Mean': '', 'Var': ''},\n",
       " 'C04': {'Mean': '', 'Var': ''},\n",
       " 'C05': {'Mean': '', 'Var': ''},\n",
       " 'C06': {'Mean': '', 'Var': ''},\n",
       " 'C07': {'Mean': '', 'Var': ''},\n",
       " 'C10': {'Mean': '', 'Var': ''},\n",
       " 'C11': {'Mean': '', 'Var': ''},\n",
       " 'C12': {'Mean': '', 'Var': ''},\n",
       " 'C13': {'Mean': '', 'Var': ''},\n",
       " 'C14': {'Mean': '', 'Var': ''},\n",
       " 'C15': {'Mean': '', 'Var': ''},\n",
       " 'C16': {'Mean': '', 'Var': ''},\n",
       " 'C17': {'Mean': '', 'Var': ''}}"
      ]
     },
     "execution_count": 7,
     "metadata": {},
     "output_type": "execute_result"
    }
   ],
   "source": [
    "all_rafts_full_meanvar['R01_S02']"
   ]
  },
  {
   "cell_type": "markdown",
   "id": "30acd686-1d71-4cd7-b57b-3d2c1d8c838a",
   "metadata": {},
   "source": [
    "# Unique file: one for mean-variance and another for gain, read-out noise, $a_{00}$, and turnoff"
   ]
  },
  {
   "cell_type": "code",
   "execution_count": 8,
   "id": "d32e42f6-481a-47c2-abd7-85558927e4c1",
   "metadata": {},
   "outputs": [],
   "source": [
    "date = \"2022AUG05\"  ## the date is used in the file name\n",
    "\n",
    "for i in range(189):\n",
    "    ptc_data = butler.get(\"ptc\", instrument=\"LSSTCam\", detector=i)\n",
    "    if ptc_data is None:\n",
    "        print (f\"Skipping {i} {det_id_to_name[i]} because cpCovs is None\")\n",
    "        continue\n",
    "    for amp in ampNames:\n",
    "        all_rafts_full[det_id_to_name[i]][amp]['rd_noise'] = ptc_data.noise[amp]\n",
    "        all_rafts_full[det_id_to_name[i]][amp]['gain'] = ptc_data.gain[amp]\n",
    "        all_rafts_full[det_id_to_name[i]][amp][\"a00\"] = ptc_data.ptcFitPars[amp][0]\n",
    "        all_rafts_full[det_id_to_name[i]][amp][\"turnoff\"] = ptc_data.ptcTurnoff[amp]\n",
    "        \n",
    "        all_rafts_full_meanvar[det_id_to_name[i]][amp][\"Mean\"] = ptc_data.rawMeans[amp]\n",
    "        all_rafts_full_meanvar[det_id_to_name[i]][amp][\"Var\"] = ptc_data.rawVars[amp]\n",
    "\n",
    "#Dump data in a yaml file\n",
    "with open(f'./Data_files/PTC_allvalues_dict_{date}.yaml', 'w') as outfile:\n",
    "    yaml.dump(all_rafts_full, outfile)\n",
    "    \n",
    "with open(f'./Data_files/PTC_meanvar_dict_{date}.yaml', 'w') as outfile:\n",
    "    yaml.dump(all_rafts_full_meanvar, outfile)  "
   ]
  },
  {
   "cell_type": "code",
   "execution_count": 9,
   "id": "832d15f3-363a-42dc-b3e7-0cb7c269836f",
   "metadata": {
    "tags": []
   },
   "outputs": [
    {
     "data": {
      "text/plain": [
       "{'C00': {'gain': 1.6025940789329864,\n",
       "  'rd_noise': 6.03524920641777,\n",
       "  'a00': -2.2007323292646248e-06,\n",
       "  'turnoff': 74918.56120012027},\n",
       " 'C01': {'gain': 1.593338988138264,\n",
       "  'rd_noise': 5.937206183957168,\n",
       "  'a00': -2.2283163081242095e-06,\n",
       "  'turnoff': 73830.5111707647},\n",
       " 'C02': {'gain': 1.5907032906430787,\n",
       "  'rd_noise': 6.0186215031925245,\n",
       "  'a00': -2.2262356406581675e-06,\n",
       "  'turnoff': 72504.39066358109},\n",
       " 'C03': {'gain': 1.5890874977554625,\n",
       "  'rd_noise': 6.080678947957753,\n",
       "  'a00': -2.211855659057467e-06,\n",
       "  'turnoff': 72801.81962359825},\n",
       " 'C04': {'gain': 1.583271570703637,\n",
       "  'rd_noise': 6.2061419898764045,\n",
       "  'a00': -2.0159958259089e-06,\n",
       "  'turnoff': 73461.1562084773},\n",
       " 'C05': {'gain': 1.5879812436631653,\n",
       "  'rd_noise': 6.022350630043325,\n",
       "  'a00': -2.172276779939199e-06,\n",
       "  'turnoff': 73368.42399160544},\n",
       " 'C06': {'gain': 1.5965776808527221,\n",
       "  'rd_noise': 6.023938275236298,\n",
       "  'a00': -2.1560282849817983e-06,\n",
       "  'turnoff': 73243.72346314258},\n",
       " 'C07': {'gain': 1.6015312381993183,\n",
       "  'rd_noise': 6.020203196563788,\n",
       "  'a00': -2.134271972790092e-06,\n",
       "  'turnoff': 75123.97862331619},\n",
       " 'C10': {'gain': 1.7553174885834344,\n",
       "  'rd_noise': 6.184791827582161,\n",
       "  'a00': -2.2627953441237822e-06,\n",
       "  'turnoff': 70166.23757562481},\n",
       " 'C11': {'gain': 1.7604477576597415,\n",
       "  'rd_noise': 6.1865907889335485,\n",
       "  'a00': -2.2606567731651054e-06,\n",
       "  'turnoff': 66965.02235804746},\n",
       " 'C12': {'gain': 1.7638880349647088,\n",
       "  'rd_noise': 6.267163726781965,\n",
       "  'a00': -2.2602865454094633e-06,\n",
       "  'turnoff': 67049.0493738427},\n",
       " 'C13': {'gain': 1.761734697274025,\n",
       "  'rd_noise': 6.350986777132971,\n",
       "  'a00': -2.2570494105679716e-06,\n",
       "  'turnoff': 67373.7750808026},\n",
       " 'C14': {'gain': 1.7513977163714998,\n",
       "  'rd_noise': 6.414968055544893,\n",
       "  'a00': -2.1906649829628476e-06,\n",
       "  'turnoff': 68032.25298521234},\n",
       " 'C15': {'gain': 1.7476295729323745,\n",
       "  'rd_noise': 6.246064796523286,\n",
       "  'a00': -2.2193497691880783e-06,\n",
       "  'turnoff': 70060.69297618713},\n",
       " 'C16': {'gain': 1.741984363324135,\n",
       "  'rd_noise': 6.238926409695604,\n",
       "  'a00': -2.1681526078336447e-06,\n",
       "  'turnoff': 72380.12297570673},\n",
       " 'C17': {'gain': 1.7256232095593773,\n",
       "  'rd_noise': 6.305788323060403,\n",
       "  'a00': -2.1111889560562235e-06,\n",
       "  'turnoff': 77072.16194190919}}"
      ]
     },
     "execution_count": 9,
     "metadata": {},
     "output_type": "execute_result"
    }
   ],
   "source": [
    "all_rafts_full['R01_S00']"
   ]
  },
  {
   "cell_type": "markdown",
   "id": "922afb50-961e-4c7e-866d-7cdb068a6d70",
   "metadata": {},
   "source": [
    "# Individual files for gain, read-out noise, $a_{00}$, and turnoff"
   ]
  },
  {
   "cell_type": "code",
   "execution_count": 10,
   "id": "ae8236d8-532e-45a3-8146-3dd6807c0b27",
   "metadata": {},
   "outputs": [],
   "source": [
    "for par in ['rd_noise', 'gain', \"a00\", \"turnoff\"]:\n",
    "    ##Restarting the dictionary\n",
    "    all_rafts = {detName: copy.deepcopy(value) for detName in det_name_array}\n",
    "    \n",
    "    for i in range(189):\n",
    "        ptc_data = butler.get(\"ptc\", instrument=\"LSSTCam\", detector=i)\n",
    "        for amp in ampNames:\n",
    "            if par == 'rd_noise':\n",
    "                all_rafts[det_id_to_name[i]][amp] = ptc_data.noise[amp]\n",
    "            if par == 'gain':\n",
    "                all_rafts[det_id_to_name[i]][amp] = ptc_data.gain[amp]\n",
    "            if par == 'a00':\n",
    "                all_rafts[det_id_to_name[i]][amp] = ptc_data.ptcFitPars[amp][0]\n",
    "            if par == 'turnoff':\n",
    "                all_rafts[det_id_to_name[i]][amp] = ptc_data.ptcTurnoff[amp]\n",
    "    \n",
    "    #Dump data in a yaml file\n",
    "    with open(f'./Data_files/PTC_{par}_dict_{date}.yaml', 'w') as outfile:\n",
    "        yaml.dump(all_rafts, outfile)"
   ]
  },
  {
   "cell_type": "code",
   "execution_count": 11,
   "id": "7872d9a5-2e70-4592-9cbd-912357deb91a",
   "metadata": {},
   "outputs": [
    {
     "data": {
      "text/plain": [
       "{'C00': 75699.33789562658,\n",
       " 'C01': 72110.11990948125,\n",
       " 'C02': 72350.83229197445,\n",
       " 'C03': 70512.11444503214,\n",
       " 'C04': 69396.2837295275,\n",
       " 'C05': 69527.53161113187,\n",
       " 'C06': 71102.83591098123,\n",
       " 'C07': 73779.76616058405,\n",
       " 'C10': 73622.76162876893,\n",
       " 'C11': 70480.05284783359,\n",
       " 'C12': 70492.61812892648,\n",
       " 'C13': 70634.68449453358,\n",
       " 'C14': 69193.76558605884,\n",
       " 'C15': 68977.51145611893,\n",
       " 'C16': 69323.59221447469,\n",
       " 'C17': 71049.84203553203}"
      ]
     },
     "execution_count": 11,
     "metadata": {},
     "output_type": "execute_result"
    }
   ],
   "source": [
    "all_rafts['R01_S01']"
   ]
  },
  {
   "cell_type": "code",
   "execution_count": null,
   "id": "25cef639-281a-426b-a24c-6871a5d9ae81",
   "metadata": {},
   "outputs": [],
   "source": []
  }
 ],
 "metadata": {
  "kernelspec": {
   "display_name": "LSST",
   "language": "python",
   "name": "lsst"
  },
  "language_info": {
   "codemirror_mode": {
    "name": "ipython",
    "version": 3
   },
   "file_extension": ".py",
   "mimetype": "text/x-python",
   "name": "python",
   "nbconvert_exporter": "python",
   "pygments_lexer": "ipython3",
   "version": "3.10.5"
  }
 },
 "nbformat": 4,
 "nbformat_minor": 5
}
